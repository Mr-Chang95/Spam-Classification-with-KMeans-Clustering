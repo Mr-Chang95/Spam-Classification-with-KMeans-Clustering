{
  "cells": [
    {
      "cell_type": "markdown",
      "metadata": {
        "id": "VDacajl0Da76"
      },
      "source": [
        "#  Spam Prediction with Clustering\n",
        "## Danny Chang\n",
        "\n",
        "In an era of constant digital communication, the relentless influx of messages and emails can be overwhelming. Among these, a significant portion comprises unwanted and potentially harmful spam messages, which can disrupt productivity and pose security risks. To combat this issue, we embark on a Data Science project aimed at developing a robust spam classification system.\n",
        "\n",
        "Our goal is to create an intelligent algorithm that can automatically differentiate between legitimate messages and spam, providing users with a clutter-free and secure communication experience. By leveraging the power of machine learning and data analysis, we intend to build a predictive model capable of classifying messages and emails as either \"Spam\" or \"Not Spam\" with a high degree of accuracy.\n",
        "\n",
        "This project will entail various stages, including data collection, preprocessing, feature engineering, model selection, and evaluation. We will draw upon a diverse dataset of messages and emails, encompassing a wide range of characteristics, to train and fine-tune our classification model. Throughout the process, we will explore advanced techniques in natural language processing (NLP) and machine learning to enhance our model's performance and adaptability.\n",
        "\n",
        "The successful completion of this project will not only help individuals manage their digital communications more effectively but also have broader applications in email filtering, cybersecurity, and information management. By mitigating the impact of spam, we aim to contribute to a safer and more efficient digital communication environment."
      ]
    },
    {
      "cell_type": "code",
      "execution_count": 1,
      "metadata": {
        "id": "mSa-gsA_iagt"
      },
      "outputs": [],
      "source": [
        "import pandas as pd\n",
        "import os\n",
        "import email\n",
        "from collections import Counter\n",
        "import shutil"
      ]
    },
    {
      "cell_type": "code",
      "execution_count": 2,
      "metadata": {},
      "outputs": [
        {
          "name": "stdout",
          "output_type": "stream",
          "text": [
            "From rssfeeds@jmason.org  Mon Sep 30 13:43:46 2002\n",
            "Return-Path: <rssfeeds@example.com>\n",
            "Delivered-To: yyyy@localhost.example.com\n",
            "Received: from localhost (jalapeno [127.0.0.1])\n",
            "\tby jmason.org (Postfix) with ESMTP id AE79816F16\n",
            "\tfor <jm@localhost>; Mon, 30 Sep 2002 13:43:46 +0100 (IST)\n",
            "Received: from jalapeno [127.0.0.1]\n",
            "\tby localhost with IMAP (fetchmail-5.9.0)\n",
            "\tfor jm@localhost (single-drop); Mon, 30 Sep 2002 13:43:46 +0100 (IST)\n",
            "Received: from dogma.slashnull.org (localhost [127.0.0.1]) by\n",
            "    dogma.slashnull.org (8.11.6/8.11.6) with ESMTP id g8U81fg21359 for\n",
            "    <jm@jmason.org>; Mon, 30 Sep 2002 09:01:41 +0100\n",
            "Message-Id: <200209300801.g8U81fg21359@dogma.slashnull.org>\n",
            "To: yyyy@example.com\n",
            "From: gamasutra <rssfeeds@example.com>\n",
            "Subject: Priceless Rubens works stolen in raid on mansion\n",
            "Date: Mon, 30 Sep 2002 08:01:41 -0000\n",
            "Content-Type: text/plain; encoding=utf-8\n",
            "Lines: 6\n",
            "X-Spam-Status: No, hits=-527.4 required=5.0\n",
            "\ttests=AWL,DATE_IN_PAST_03_06,T_URI_COUNT_0_1\n",
            "\tversion=2.50-cvs\n",
            "X-Spam-Level: \n",
            "\n",
            "URL: http://www.newsisfree.com/click/-1,8381145,215/\n",
            "Date: 2002-09-30T03:04:58+01:00\n",
            "\n",
            "*Arts:* Fourth art raid on philanthropist's home once targeted by the IRA and \n",
            "Dublin gangster Martin Cahill.\n",
            "\n",
            "\n",
            "\n"
          ]
        }
      ],
      "source": [
        "x = os.listdir(\"data/easy_ham\")\n",
        "\n",
        "with open(os.path.join(\"data/easy_ham\",x[0]), \"r\") as file_handler:\n",
        "    msg = file_handler.read()\n",
        "    print(msg)"
      ]
    },
    {
      "cell_type": "code",
      "execution_count": 5,
      "metadata": {},
      "outputs": [],
      "source": [
        "file_name = []\n",
        "label = []\n",
        "\n",
        "# Retriving the data\n",
        "for root,dirs,files in os.walk(\"data/\"):\n",
        "    for f in files:\n",
        "        if \"spam\" in root:\n",
        "            label.append(1)\n",
        "        else:\n",
        "            label.append(0)\n",
        "        file_name.append(os.path.join(root,f))"
      ]
    },
    {
      "cell_type": "code",
      "execution_count": 6,
      "metadata": {},
      "outputs": [
        {
          "data": {
            "text/html": [
              "<div>\n",
              "<style scoped>\n",
              "    .dataframe tbody tr th:only-of-type {\n",
              "        vertical-align: middle;\n",
              "    }\n",
              "\n",
              "    .dataframe tbody tr th {\n",
              "        vertical-align: top;\n",
              "    }\n",
              "\n",
              "    .dataframe thead th {\n",
              "        text-align: right;\n",
              "    }\n",
              "</style>\n",
              "<table border=\"1\" class=\"dataframe\">\n",
              "  <thead>\n",
              "    <tr style=\"text-align: right;\">\n",
              "      <th></th>\n",
              "      <th>Message</th>\n",
              "      <th>Target</th>\n",
              "    </tr>\n",
              "  </thead>\n",
              "  <tbody>\n",
              "    <tr>\n",
              "      <th>0</th>\n",
              "      <td>data/spam/00249.5f45607c1bffe89f60ba1ec9f878039a</td>\n",
              "      <td>1</td>\n",
              "    </tr>\n",
              "    <tr>\n",
              "      <th>1</th>\n",
              "      <td>data/spam/0355.94ebf637e4bd3db8a81c8ce68ecf681d</td>\n",
              "      <td>1</td>\n",
              "    </tr>\n",
              "    <tr>\n",
              "      <th>2</th>\n",
              "      <td>data/spam/0395.bb934e8b4c39d5eab38f828a26f760b4</td>\n",
              "      <td>1</td>\n",
              "    </tr>\n",
              "    <tr>\n",
              "      <th>3</th>\n",
              "      <td>data/spam/0485.9021367278833179285091e5201f5854</td>\n",
              "      <td>1</td>\n",
              "    </tr>\n",
              "    <tr>\n",
              "      <th>4</th>\n",
              "      <td>data/spam/00373.ebe8670ac56b04125c25100a36ab0510</td>\n",
              "      <td>1</td>\n",
              "    </tr>\n",
              "  </tbody>\n",
              "</table>\n",
              "</div>"
            ],
            "text/plain": [
              "                                            Message  Target\n",
              "0  data/spam/00249.5f45607c1bffe89f60ba1ec9f878039a       1\n",
              "1   data/spam/0355.94ebf637e4bd3db8a81c8ce68ecf681d       1\n",
              "2   data/spam/0395.bb934e8b4c39d5eab38f828a26f760b4       1\n",
              "3   data/spam/0485.9021367278833179285091e5201f5854       1\n",
              "4  data/spam/00373.ebe8670ac56b04125c25100a36ab0510       1"
            ]
          },
          "execution_count": 6,
          "metadata": {},
          "output_type": "execute_result"
        }
      ],
      "source": [
        "data = pd.DataFrame({\"Message\":file_name,\"Target\":label})\n",
        "data"
      ]
    },
    {
      "cell_type": "markdown",
      "metadata": {},
      "source": [
        "## Data Preprocessing and Cleaning\n",
        "\n",
        "We received a collection of over 9,000 emails for classification purposes. Before we dive into the classification task, it's crucial to understand the nature of our dataset. Initially, the dataset was delivered in a zip file, which comprised five folders containing numerous documents, each holding various emails. \n",
        "\n",
        "Upon preliminary examination of some of the files, it became clear that the dataset had certain characteristics that needed addressing. Aside from the main content of the emails, there were instances where emails were encapsulated within HTML tags. Additionally, the presence of special characters and email metadata were also observed. These elements underscore the importance of parsing the data to extract relevant content, which is essential for accurate classification. \n",
        "\n",
        "The following sections will detail our approach to navigate through and parse the emails in our dataset."
      ]
    },
    {
      "cell_type": "code",
      "execution_count": 7,
      "metadata": {
        "colab": {
          "base_uri": "https://localhost:8080/"
        },
        "id": "aQeD77T6vIv-",
        "outputId": "33e012b0-22b7-4aeb-f755-8b773e598b00"
      },
      "outputs": [
        {
          "name": "stdout",
          "output_type": "stream",
          "text": [
            "content type content transfer encoding\n"
          ]
        },
        {
          "name": "stderr",
          "output_type": "stream",
          "text": [
            "[nltk_data] Error loading punkt: <urlopen error [SSL:\n",
            "[nltk_data]     CERTIFICATE_VERIFY_FAILED] certificate verify failed:\n",
            "[nltk_data]     unable to get local issuer certificate (_ssl.c:1002)>\n",
            "[nltk_data] Error loading stopwords: <urlopen error [SSL:\n",
            "[nltk_data]     CERTIFICATE_VERIFY_FAILED] certificate verify failed:\n",
            "[nltk_data]     unable to get local issuer certificate (_ssl.c:1002)>\n"
          ]
        }
      ],
      "source": [
        "import re\n",
        "from bs4 import BeautifulSoup\n",
        "from nltk.corpus import stopwords\n",
        "from nltk.tokenize import word_tokenize\n",
        "import nltk\n",
        "nltk.download('punkt')\n",
        "nltk.download('stopwords')\n",
        "\n",
        "# function to clean data\n",
        "def clean_text(text):\n",
        "\n",
        "    text = str(text)\n",
        "\n",
        "    # Remove HTML tags\n",
        "    text = BeautifulSoup(text, \"html.parser\").get_text()\n",
        "\n",
        "\n",
        "    # Remove special characters and convert to lowercase\n",
        "    text = re.sub(r'[^a-zA-Z0-9]', ' ', text)\n",
        "    #words = re.findall(r'\\w+', text)\n",
        "    #text= ' '.join(words)\n",
        "    text = text.lower()\n",
        "\n",
        "    # Tokenization and stopword removal\n",
        "    tokens = word_tokenize(text)\n",
        "    tokens = [word for word in tokens if word not in stopwords.words(\"english\")]\n",
        "\n",
        "    return \" \".join(tokens)\n",
        "\n",
        "# Example usage:\n",
        "text1 = \"Sample <b>HTML</b> text with special characters & symbols!\"\n",
        "text2 =\"Martin A posted:\\nTassos Papadopoulos, the Greek sculptor behind the plan, judged that the\\n limestone of Mount Kerdylio, 70 miles east of Salonika and not far from the\\n Mount Athos monastic community, was ideal for the patriotic sculpture. \\n \\n As well as Alexander's granite features, 240 ft high and 170 ft wide, a\\n museum, a restored amphitheatre and car park for admiring crowds are\\nplanned\\n---------------------\\nSo is this mountain limestone or granite?\\nIf it's limestone, it'll weather pretty fast.\\n\\n------------------------ Yahoo! Groups Sponsor ---------------------~-->\\n4 DVDs Free +s&p Join Now\\nhttp://us.click.yahoo.com/pt6YBB/NXiEAA/mG3HAA/7gSolB/TM\\n---------------------------------------------------------------------~->\\n\\nTo unsubscribe from this group, send an email to:\\nforteana-unsubscribe@egroups.com\\n\\n \\n\\nYour use of Yahoo! Groups is subject to http://docs.yahoo.com/info/terms/ \\n\\n\\n\\n\"\n",
        "text3 ='    Date:        Wed, 21 Aug 2002 10:54:46 -0500\\n    From:        Chris Garrigues <cwg-dated-1030377287.06fa6d@DeepEddy.Com>\\n    Message-ID:  <1029945287.4797.TMDA@deepeddy.vircio.com>\\n\\n\\n  | I can\\'t reproduce this error.\\n\\nFor me it is very repeatable... (like every time, without fail).\\n\\nThis is the debug log of the pick happening ...\\n\\n18:19:03 Pick_It {exec pick +inbox -list -lbrace -lbrace -subject ftp -rbrace -rbrace} {4852-4852 -sequence mercury}\\n18:19:03 exec pick +inbox -list -lbrace -lbrace -subject ftp -rbrace -rbrace 4852-4852 -sequence mercury\\n18:19:04 Ftoc_PickMsgs {{1 hit}}\\n18:19:04 Marking 1 hits\\n18:19:04 tkerror: syntax error in expression \"int ...\\n\\nNote, if I run the pick command by hand ...\\n\\ndelta$ pick +inbox -list -lbrace -lbrace -subject ftp -rbrace -rbrace  4852-4852 -sequence mercury\\n1 hit\\n\\nThat\\'s where the \"1 hit\" comes from (obviously).  The version of nmh I\\'m\\nusing is ...\\n\\ndelta$ pick -version\\npick -- nmh-1.0.4 [compiled on fuchsia.cs.mu.OZ.AU at Sun Mar 17 14:55:56 ICT 2002]\\n\\nAnd the relevant part of my .mh_profile ...\\n\\ndelta$ mhparam pick\\n-seq sel -list\\n\\n\\nSince the pick command works, the sequence (actually, both of them, the\\none that\\'s explicit on the command line, from the search popup, and the\\none that comes from .mh_profile) do get created.\\n\\nkre\\n\\nps: this is still using the version of the code form a day ago, I haven\\'t\\nbeen able to reach the cvs repository today (local routing issue I think).\\n\\n\\n\\n_______________________________________________\\nExmh-workers mailing list\\nExmh-workers@redhat.com\\nhttps://listman.redhat.com/mailman/listinfo/exmh-workers\\n\\n'\n",
        "text4=\"[[Content-Type, Content-Transfer-Encoding]]\t\"\n",
        "print(clean_text(text4))"
      ]
    },
    {
      "cell_type": "code",
      "execution_count": 9,
      "metadata": {
        "colab": {
          "base_uri": "https://localhost:8080/",
          "height": 300
        },
        "id": "In5aCqdX1TuH",
        "outputId": "475c5a9a-2ee8-4945-c446-06c735fd7d0e"
      },
      "outputs": [
        {
          "name": "stdout",
          "output_type": "stream",
          "text": [
            "data/spam 0343.0630afbe4ee1ffd0db0ffb81c6de98de\n",
            "______________________\n"
          ]
        }
      ],
      "source": [
        "types = Counter()\n",
        "msgs = []\n",
        "trigger = True\n",
        "\n",
        "for root, dirs, files in os.walk(\"data/\"):\n",
        "    for f in files:\n",
        "        with open(os.path.join(root, f), 'r', encoding='latin-1') as file_point:\n",
        "            msg = email.message_from_file(file_point)\n",
        "            type_ = msg.get_content_type()\n",
        "            types[type_] += 1\n",
        "            if type_ == 'multipart/mixed' and trigger:\n",
        "                print(root, f)\n",
        "                print(\"______________________\")\n",
        "                trigger = False\n",
        "                SAMPLE = msg.get_payload()\n",
        "\n",
        "types_df = pd.DataFrame.from_dict(types, orient='index').reset_index()\n",
        "types_df.columns = ['MessageType', 'Count']\n",
        "types_df.reset_index(drop=True, inplace=True)"
      ]
    },
    {
      "cell_type": "markdown",
      "metadata": {},
      "source": [
        "Based on the breakdown presented in the table, it's evident that **text/html** and **text/plain** constitute a significant 92% of the entire dataset. Here's a bit more context on these message types:\n",
        "\n",
        "- **Text/html:** Consists of text-based data where HTML is a specific text data format.\n",
        "- **Text/plain:** While similar to text/html, this type doesn't contain any markup or formatting like HTML. The charset parameter indicates the character encoding used for the text content.\n",
        "\n",
        "The remaining 8% of the dataset comprises various multipart messages:\n",
        "\n",
        "- **Multipart/mixed:** Accounts for 1% of the dataset. This message type can incorporate both content and different multimedia forms, such as images and audio. The term \"mixed\" refers to the inclusion of one or more text parts mixed with non-text parts, like attachments.\n",
        "\n",
        "- **Multipart/alternative:** Represents 3% of the dataset, offering both plain text and HTML versions of an email.\n",
        "\n",
        "- **Multipart/related:** Constitutes a nominal 0% of the dataset. This message type ensures that associated resources for a specific message are displayed and processed together. For instance, an HTML email may reference embedded images, which are then displayed within the email.\n",
        "\n",
        "- **Multipart/signed:** Nearly 2% of the dataset falls under this category. This message type is advantageous for secure email communication. It comprises two main parts: the first contains the original message content, and the second holds the digital signature, also known as the signature block.\n",
        "\n",
        "- **Multipart/report:** Also representing a nominal 0% of the dataset, this multipart message supports emails with multiple parts and its own content. The report offers information regarding the status of the original message.\n",
        "```"
      ]
    },
    {
      "cell_type": "code",
      "execution_count": 10,
      "metadata": {},
      "outputs": [
        {
          "data": {
            "text/html": [
              "<div>\n",
              "<style scoped>\n",
              "    .dataframe tbody tr th:only-of-type {\n",
              "        vertical-align: middle;\n",
              "    }\n",
              "\n",
              "    .dataframe tbody tr th {\n",
              "        vertical-align: top;\n",
              "    }\n",
              "\n",
              "    .dataframe thead th {\n",
              "        text-align: right;\n",
              "    }\n",
              "</style>\n",
              "<table border=\"1\" class=\"dataframe\">\n",
              "  <thead>\n",
              "    <tr style=\"text-align: right;\">\n",
              "      <th></th>\n",
              "      <th>MessageType</th>\n",
              "      <th>Count</th>\n",
              "    </tr>\n",
              "  </thead>\n",
              "  <tbody>\n",
              "    <tr>\n",
              "      <th>0</th>\n",
              "      <td>text/plain</td>\n",
              "      <td>7413</td>\n",
              "    </tr>\n",
              "    <tr>\n",
              "      <th>1</th>\n",
              "      <td>multipart/alternative</td>\n",
              "      <td>326</td>\n",
              "    </tr>\n",
              "    <tr>\n",
              "      <th>2</th>\n",
              "      <td>text/html</td>\n",
              "      <td>1193</td>\n",
              "    </tr>\n",
              "    <tr>\n",
              "      <th>3</th>\n",
              "      <td>multipart/mixed</td>\n",
              "      <td>179</td>\n",
              "    </tr>\n",
              "    <tr>\n",
              "      <th>4</th>\n",
              "      <td>multipart/related</td>\n",
              "      <td>56</td>\n",
              "    </tr>\n",
              "    <tr>\n",
              "      <th>5</th>\n",
              "      <td>multipart/signed</td>\n",
              "      <td>180</td>\n",
              "    </tr>\n",
              "    <tr>\n",
              "      <th>6</th>\n",
              "      <td>text/plain charset=us-ascii</td>\n",
              "      <td>1</td>\n",
              "    </tr>\n",
              "    <tr>\n",
              "      <th>7</th>\n",
              "      <td>multipart/report</td>\n",
              "      <td>5</td>\n",
              "    </tr>\n",
              "  </tbody>\n",
              "</table>\n",
              "</div>"
            ],
            "text/plain": [
              "                   MessageType  Count\n",
              "0                   text/plain   7413\n",
              "1        multipart/alternative    326\n",
              "2                    text/html   1193\n",
              "3              multipart/mixed    179\n",
              "4            multipart/related     56\n",
              "5             multipart/signed    180\n",
              "6  text/plain charset=us-ascii      1\n",
              "7             multipart/report      5"
            ]
          },
          "execution_count": 10,
          "metadata": {},
          "output_type": "execute_result"
        }
      ],
      "source": [
        "types_df"
      ]
    },
    {
      "cell_type": "markdown",
      "metadata": {},
      "source": [
        "Now that we comprehend the structure of the emails, we can advance to the email cleaning phase. This will involve traversing each message with the aim of text extraction. The process varies slightly for 'text/plain' and 'multipart' message types. For 'text/plain' and 'text/HTML', the text will be extracted and subsequently cleaned using Beautiful Soup. For 'multipart' messages, we will cycle through each part of the message to locate 'text/plain' and 'text/HTML', and then utilize Beautiful Soup to sanitize the HTML content. \n",
        "\n",
        "In addition, we employed another layer of cleaning using the Natural Language Toolkit (NLTK), a library designed to remove stop words from text. Stop words are commonly used words that typically do not carry much meaning, such as \"the\", \"this\", \"I\", and \"if\".\n",
        "\n",
        "Upon completing the cleaning process, we conducted a thorough review and found that 99% of the data was successfully cleaned. Please refer to the following section for the results post parsing and cleaning for each message type. It's important to note that nine emails were found to be empty after the parsing/cleaning process as they did not contain any words."
      ]
    },
    {
      "cell_type": "code",
      "execution_count": 12,
      "metadata": {
        "colab": {
          "base_uri": "https://localhost:8080/",
          "height": 513
        },
        "id": "HiMfPhOjYGRR",
        "outputId": "f77707a6-7534-4a15-cab3-2dc3729cd126"
      },
      "outputs": [
        {
          "name": "stderr",
          "output_type": "stream",
          "text": [
            "/var/folders/ld/rsjtm_rs04l6c_vnm1w7qty40000gn/T/ipykernel_67294/2816557206.py:14: MarkupResemblesLocatorWarning: The input looks more like a filename than markup. You may want to open this file and pass the filehandle into Beautiful Soup.\n",
            "  text = BeautifulSoup(text, \"html.parser\").get_text()\n",
            "/var/folders/ld/rsjtm_rs04l6c_vnm1w7qty40000gn/T/ipykernel_67294/2816557206.py:14: MarkupResemblesLocatorWarning: The input looks more like a URL than markup. You may want to use an HTTP client like requests to get the document behind the URL, and feed that document to Beautiful Soup.\n",
            "  text = BeautifulSoup(text, \"html.parser\").get_text()\n"
          ]
        },
        {
          "name": "stdout",
          "output_type": "stream",
          "text": [
            "                                              file_name  label  \\\n",
            "0      data/spam/00249.5f45607c1bffe89f60ba1ec9f878039a      1   \n",
            "1       data/spam/0355.94ebf637e4bd3db8a81c8ce68ecf681d      1   \n",
            "2       data/spam/0395.bb934e8b4c39d5eab38f828a26f760b4      1   \n",
            "3       data/spam/0485.9021367278833179285091e5201f5854      1   \n",
            "4      data/spam/00373.ebe8670ac56b04125c25100a36ab0510      1   \n",
            "...                                                 ...    ...   \n",
            "9348  data/easy_ham_2/00609.dd49926ce94a1ea328cce9b6...      0   \n",
            "9349  data/easy_ham_2/00957.e0b56b117f3ec5f85e432a9d...      0   \n",
            "9350  data/easy_ham_2/01127.841233b48eceb74a825417d8...      0   \n",
            "9351  data/easy_ham_2/01178.5c977dff972cd6eef64d4173...      0   \n",
            "9352  data/easy_ham_2/00747.352d424267d36975a7b40b85...      0   \n",
            "\n",
            "               message_type  \\\n",
            "0                text/plain   \n",
            "1     multipart/alternative   \n",
            "2     multipart/alternative   \n",
            "3                 text/html   \n",
            "4                text/plain   \n",
            "...                     ...   \n",
            "9348             text/plain   \n",
            "9349             text/plain   \n",
            "9350             text/plain   \n",
            "9351             text/plain   \n",
            "9352             text/plain   \n",
            "\n",
            "                                         parsed_message  \\\n",
            "0     Dear Homeowner,\\n \\nInterest Rates are at thei...   \n",
            "1     Friend,Now you can copy DVD's and Games\\nhttp:...   \n",
            "2      Pocket the newest 8 year annuity!\\t Pocket th...   \n",
            "3     <html><head>\\n<title>Congratulations! You Get ...   \n",
            "4     ATTENTION: This is a MUST for ALL Computer Use...   \n",
            "...                                                 ...   \n",
            "9348  I'm one of the 30,000 but it's not working ver...   \n",
            "9349  Damien Morton quoted:\\n>W3C approves HTML 4 'e...   \n",
            "9350  On Mon, 2002-07-22 at 06:50, che wrote:\\n\\n> t...   \n",
            "9351  Once upon a time, Manfred wrote :\\n\\n> I would...   \n",
            "9352  If you run Pick, and then use the \"New FTOC\" b...   \n",
            "\n",
            "                                        cleaned_message  \n",
            "0     dear homeowner interest rates lowest point 40 ...  \n",
            "1     friend copy dvd games http www terra es person...  \n",
            "2     pocket newest 8 year annuity pocket newest 8 y...  \n",
            "3     congratulations get free handheld organizer de...  \n",
            "4     attention must computer users new special pack...  \n",
            "...                                                 ...  \n",
            "9348  one 30 000 working well week tes updates serve...  \n",
            "9349  damien morton quoted w3c approves html 4 emoti...  \n",
            "9350  mon 2002 07 22 06 50 che wrote thats correct l...  \n",
            "9351  upon time manfred wrote would like install rpm...  \n",
            "9352  run pick use new ftoc button show messages sel...  \n",
            "\n",
            "[9353 rows x 5 columns]\n",
            "WARNING--Remember all the multipart messages!!\n",
            "You need address that for Case Study 3\n"
          ]
        }
      ],
      "source": [
        "import os\n",
        "import email\n",
        "import pandas as pd\n",
        "\n",
        "# Initialize lists to hold data\n",
        "file_names = []\n",
        "labels = []\n",
        "msgtypes = []\n",
        "parsed_msgs = []\n",
        "cleaned_msgs = []\n",
        "\n",
        "# Loop through files and process emails\n",
        "for root, dirs, files in os.walk(\"data/\"):\n",
        "    for f in files:\n",
        "        # Extract file names\n",
        "        filename = os.path.join(root, f)\n",
        "        file_names.append(filename)\n",
        "\n",
        "        # Extract label (1 = spam, 0 = non-spam)\n",
        "        if \"spam\" in root:\n",
        "            labels.append(1)\n",
        "        else:\n",
        "            labels.append(0)\n",
        "\n",
        "        # Process email file\n",
        "        with open(filename, 'r', encoding='latin-1') as file_point:\n",
        "            msg = email.message_from_file(file_point)\n",
        "\n",
        "            # Extract Type of email messages (text/plain, text/html, etc.)\n",
        "            type_ = msg.get_content_type()\n",
        "            msgtypes.append(type_)\n",
        "\n",
        "            # Extract Parsed/Cleaned email messages\n",
        "            if msg.is_multipart():  # Message has multiple parts (e.g., multipart/mixed)\n",
        "                parts = []\n",
        "                for part in msg.walk():\n",
        "                    content_type = part.get_content_type()\n",
        "                    part_body = part.get_payload()\n",
        "\n",
        "                    if part_body and (content_type == \"text/plain\" or content_type == \"text/html\"):\n",
        "                        parts.append(part_body)\n",
        "\n",
        "                body = \" \".join(parts)\n",
        "                parsed_msgs.append(body)\n",
        "                cleaned_msgs.append(clean_text(body))  # Assuming you have a `clean_text` function\n",
        "            else:\n",
        "                body = msg.get_payload()\n",
        "                parsed_msgs.append(body)\n",
        "                cleaned_msgs.append(clean_text(body))  # Assuming you have a `clean_text` function\n",
        "\n",
        "# Create data DataFrame\n",
        "data = pd.DataFrame({\n",
        "    'file_name': file_names,\n",
        "    'label': labels,\n",
        "    'message_type': msgtypes,\n",
        "    'parsed_message': parsed_msgs,\n",
        "    'cleaned_message': cleaned_msgs\n",
        "})\n",
        "\n",
        "# Print DataFrame\n",
        "print(data)\n"
      ]
    },
    {
      "cell_type": "code",
      "execution_count": 16,
      "metadata": {
        "colab": {
          "base_uri": "https://localhost:8080/",
          "height": 1000
        },
        "id": "TgTQKqCt-qmA",
        "outputId": "46952079-e198-425e-bb1a-f535ba5441f1"
      },
      "outputs": [
        {
          "name": "stdout",
          "output_type": "stream",
          "text": [
            "\n",
            "\n",
            "Top 5 rows for MessageType: text/plain\n"
          ]
        },
        {
          "data": {
            "text/html": [
              "<div>\n",
              "<style scoped>\n",
              "    .dataframe tbody tr th:only-of-type {\n",
              "        vertical-align: middle;\n",
              "    }\n",
              "\n",
              "    .dataframe tbody tr th {\n",
              "        vertical-align: top;\n",
              "    }\n",
              "\n",
              "    .dataframe thead th {\n",
              "        text-align: right;\n",
              "    }\n",
              "</style>\n",
              "<table border=\"1\" class=\"dataframe\">\n",
              "  <thead>\n",
              "    <tr style=\"text-align: right;\">\n",
              "      <th></th>\n",
              "      <th>file_name</th>\n",
              "      <th>label</th>\n",
              "      <th>message_type</th>\n",
              "      <th>parsed_message</th>\n",
              "      <th>cleaned_message</th>\n",
              "    </tr>\n",
              "  </thead>\n",
              "  <tbody>\n",
              "    <tr>\n",
              "      <th>0</th>\n",
              "      <td>data/spam/00249.5f45607c1bffe89f60ba1ec9f878039a</td>\n",
              "      <td>1</td>\n",
              "      <td>text/plain</td>\n",
              "      <td>Dear Homeowner,\\n \\nInterest Rates are at thei...</td>\n",
              "      <td>dear homeowner interest rates lowest point 40 ...</td>\n",
              "    </tr>\n",
              "    <tr>\n",
              "      <th>4</th>\n",
              "      <td>data/spam/00373.ebe8670ac56b04125c25100a36ab0510</td>\n",
              "      <td>1</td>\n",
              "      <td>text/plain</td>\n",
              "      <td>ATTENTION: This is a MUST for ALL Computer Use...</td>\n",
              "      <td>attention must computer users new special pack...</td>\n",
              "    </tr>\n",
              "    <tr>\n",
              "      <th>7</th>\n",
              "      <td>data/spam/0125.44381546181fc6c5d7ea59e917f232c5</td>\n",
              "      <td>1</td>\n",
              "      <td>text/plain</td>\n",
              "      <td>YOUR SEX DRIVE SHOULD NEVER BE SECOND ON THE L...</td>\n",
              "      <td>sex drive never second list viagra online ship...</td>\n",
              "    </tr>\n",
              "    <tr>\n",
              "      <th>8</th>\n",
              "      <td>data/spam/00210.050ffd105bd4e006771ee63cabc59978</td>\n",
              "      <td>1</td>\n",
              "      <td>text/plain</td>\n",
              "      <td>IMPORTANT INFORMATION:\\n\\nThe new domain names...</td>\n",
              "      <td>important information new domain names finally...</td>\n",
              "    </tr>\n",
              "    <tr>\n",
              "      <th>11</th>\n",
              "      <td>data/spam/00033.9babb58d9298daa2963d4f514193d7d6</td>\n",
              "      <td>1</td>\n",
              "      <td>text/plain</td>\n",
              "      <td>This is the bottom line.  If you can GIVE AWAY...</td>\n",
              "      <td>bottom line give away cd free people like 80 1...</td>\n",
              "    </tr>\n",
              "  </tbody>\n",
              "</table>\n",
              "</div>"
            ],
            "text/plain": [
              "                                           file_name  label message_type  \\\n",
              "0   data/spam/00249.5f45607c1bffe89f60ba1ec9f878039a      1   text/plain   \n",
              "4   data/spam/00373.ebe8670ac56b04125c25100a36ab0510      1   text/plain   \n",
              "7    data/spam/0125.44381546181fc6c5d7ea59e917f232c5      1   text/plain   \n",
              "8   data/spam/00210.050ffd105bd4e006771ee63cabc59978      1   text/plain   \n",
              "11  data/spam/00033.9babb58d9298daa2963d4f514193d7d6      1   text/plain   \n",
              "\n",
              "                                       parsed_message  \\\n",
              "0   Dear Homeowner,\\n \\nInterest Rates are at thei...   \n",
              "4   ATTENTION: This is a MUST for ALL Computer Use...   \n",
              "7   YOUR SEX DRIVE SHOULD NEVER BE SECOND ON THE L...   \n",
              "8   IMPORTANT INFORMATION:\\n\\nThe new domain names...   \n",
              "11  This is the bottom line.  If you can GIVE AWAY...   \n",
              "\n",
              "                                      cleaned_message  \n",
              "0   dear homeowner interest rates lowest point 40 ...  \n",
              "4   attention must computer users new special pack...  \n",
              "7   sex drive never second list viagra online ship...  \n",
              "8   important information new domain names finally...  \n",
              "11  bottom line give away cd free people like 80 1...  "
            ]
          },
          "metadata": {},
          "output_type": "display_data"
        },
        {
          "name": "stdout",
          "output_type": "stream",
          "text": [
            "\n",
            "\n",
            "Top 5 rows for MessageType: multipart/alternative\n"
          ]
        },
        {
          "data": {
            "text/html": [
              "<div>\n",
              "<style scoped>\n",
              "    .dataframe tbody tr th:only-of-type {\n",
              "        vertical-align: middle;\n",
              "    }\n",
              "\n",
              "    .dataframe tbody tr th {\n",
              "        vertical-align: top;\n",
              "    }\n",
              "\n",
              "    .dataframe thead th {\n",
              "        text-align: right;\n",
              "    }\n",
              "</style>\n",
              "<table border=\"1\" class=\"dataframe\">\n",
              "  <thead>\n",
              "    <tr style=\"text-align: right;\">\n",
              "      <th></th>\n",
              "      <th>file_name</th>\n",
              "      <th>label</th>\n",
              "      <th>message_type</th>\n",
              "      <th>parsed_message</th>\n",
              "      <th>cleaned_message</th>\n",
              "    </tr>\n",
              "  </thead>\n",
              "  <tbody>\n",
              "    <tr>\n",
              "      <th>1</th>\n",
              "      <td>data/spam/0355.94ebf637e4bd3db8a81c8ce68ecf681d</td>\n",
              "      <td>1</td>\n",
              "      <td>multipart/alternative</td>\n",
              "      <td>Friend,Now you can copy DVD's and Games\\nhttp:...</td>\n",
              "      <td>friend copy dvd games http www terra es person...</td>\n",
              "    </tr>\n",
              "    <tr>\n",
              "      <th>2</th>\n",
              "      <td>data/spam/0395.bb934e8b4c39d5eab38f828a26f760b4</td>\n",
              "      <td>1</td>\n",
              "      <td>multipart/alternative</td>\n",
              "      <td>Pocket the newest 8 year annuity!\\t Pocket th...</td>\n",
              "      <td>pocket newest 8 year annuity pocket newest 8 y...</td>\n",
              "    </tr>\n",
              "    <tr>\n",
              "      <th>6</th>\n",
              "      <td>data/spam/00214.1367039e50dc6b7adb0f2aa8aba83216</td>\n",
              "      <td>1</td>\n",
              "      <td>multipart/alternative</td>\n",
              "      <td>We dare you...\\n Try to find a better annuity...</td>\n",
              "      <td>dare try find better annuity 20 5 40 guarantee...</td>\n",
              "    </tr>\n",
              "    <tr>\n",
              "      <th>10</th>\n",
              "      <td>data/spam/0112.ec411d26d1f4decc16af7ef73e69a227</td>\n",
              "      <td>1</td>\n",
              "      <td>multipart/alternative</td>\n",
              "      <td>An Additional Income Stream\\n from your curre...</td>\n",
              "      <td>additional income stream current book business...</td>\n",
              "    </tr>\n",
              "    <tr>\n",
              "      <th>25</th>\n",
              "      <td>data/spam/0272.97ecf97bd5f1563ac88d9eb4c8a51062</td>\n",
              "      <td>1</td>\n",
              "      <td>multipart/alternative</td>\n",
              "      <td>\\nFREE CD-ROM LESSONS\\nhttp://isis.webstakes.c...</td>\n",
              "      <td>free cd rom lessons http isis webstakes com pl...</td>\n",
              "    </tr>\n",
              "  </tbody>\n",
              "</table>\n",
              "</div>"
            ],
            "text/plain": [
              "                                           file_name  label  \\\n",
              "1    data/spam/0355.94ebf637e4bd3db8a81c8ce68ecf681d      1   \n",
              "2    data/spam/0395.bb934e8b4c39d5eab38f828a26f760b4      1   \n",
              "6   data/spam/00214.1367039e50dc6b7adb0f2aa8aba83216      1   \n",
              "10   data/spam/0112.ec411d26d1f4decc16af7ef73e69a227      1   \n",
              "25   data/spam/0272.97ecf97bd5f1563ac88d9eb4c8a51062      1   \n",
              "\n",
              "             message_type                                     parsed_message  \\\n",
              "1   multipart/alternative  Friend,Now you can copy DVD's and Games\\nhttp:...   \n",
              "2   multipart/alternative   Pocket the newest 8 year annuity!\\t Pocket th...   \n",
              "6   multipart/alternative   We dare you...\\n Try to find a better annuity...   \n",
              "10  multipart/alternative   An Additional Income Stream\\n from your curre...   \n",
              "25  multipart/alternative  \\nFREE CD-ROM LESSONS\\nhttp://isis.webstakes.c...   \n",
              "\n",
              "                                      cleaned_message  \n",
              "1   friend copy dvd games http www terra es person...  \n",
              "2   pocket newest 8 year annuity pocket newest 8 y...  \n",
              "6   dare try find better annuity 20 5 40 guarantee...  \n",
              "10  additional income stream current book business...  \n",
              "25  free cd rom lessons http isis webstakes com pl...  "
            ]
          },
          "metadata": {},
          "output_type": "display_data"
        },
        {
          "name": "stdout",
          "output_type": "stream",
          "text": [
            "\n",
            "\n",
            "Top 5 rows for MessageType: text/html\n"
          ]
        },
        {
          "data": {
            "text/html": [
              "<div>\n",
              "<style scoped>\n",
              "    .dataframe tbody tr th:only-of-type {\n",
              "        vertical-align: middle;\n",
              "    }\n",
              "\n",
              "    .dataframe tbody tr th {\n",
              "        vertical-align: top;\n",
              "    }\n",
              "\n",
              "    .dataframe thead th {\n",
              "        text-align: right;\n",
              "    }\n",
              "</style>\n",
              "<table border=\"1\" class=\"dataframe\">\n",
              "  <thead>\n",
              "    <tr style=\"text-align: right;\">\n",
              "      <th></th>\n",
              "      <th>file_name</th>\n",
              "      <th>label</th>\n",
              "      <th>message_type</th>\n",
              "      <th>parsed_message</th>\n",
              "      <th>cleaned_message</th>\n",
              "    </tr>\n",
              "  </thead>\n",
              "  <tbody>\n",
              "    <tr>\n",
              "      <th>3</th>\n",
              "      <td>data/spam/0485.9021367278833179285091e5201f5854</td>\n",
              "      <td>1</td>\n",
              "      <td>text/html</td>\n",
              "      <td>&lt;html&gt;&lt;head&gt;\\n&lt;title&gt;Congratulations! You Get ...</td>\n",
              "      <td>congratulations get free handheld organizer de...</td>\n",
              "    </tr>\n",
              "    <tr>\n",
              "      <th>9</th>\n",
              "      <td>data/spam/0108.4506c2ef846b80b9a7beb90315b22701</td>\n",
              "      <td>1</td>\n",
              "      <td>text/html</td>\n",
              "      <td>&lt;html&gt;\\n&lt;head&gt;\\n&lt;title&gt;Digital Publishing Tool...</td>\n",
              "      <td>digital publishing tools free software alert p...</td>\n",
              "    </tr>\n",
              "    <tr>\n",
              "      <th>13</th>\n",
              "      <td>data/spam/0146.6656452972931e859e640f6ac57d2962</td>\n",
              "      <td>1</td>\n",
              "      <td>text/html</td>\n",
              "      <td>&lt;html&gt;&lt;head&gt;&lt;/head&gt;&lt;body bgcolor=3Dblack&gt;\\n&lt;ta...</td>\n",
              "      <td></td>\n",
              "    </tr>\n",
              "    <tr>\n",
              "      <th>16</th>\n",
              "      <td>data/spam/00500.85b72f09f6778a085dc8b6821965a76f</td>\n",
              "      <td>1</td>\n",
              "      <td>text/html</td>\n",
              "      <td>&lt;STYLE type=\"text/css\"&gt;\\n&lt;!--\\nP{\\n  font-size...</td>\n",
              "      <td>hello chinese traditional 21 10 f r v c w n n ...</td>\n",
              "    </tr>\n",
              "    <tr>\n",
              "      <th>17</th>\n",
              "      <td>data/spam/00493.1c5f59825f7a246187c137614fb1ea82</td>\n",
              "      <td>1</td>\n",
              "      <td>text/html</td>\n",
              "      <td>&lt;HR&gt;\\n&lt;html&gt;\\n&lt;head&gt;\\n  &lt;title&gt;Secured Investe...</td>\n",
              "      <td>secured investements wealth without risk disco...</td>\n",
              "    </tr>\n",
              "  </tbody>\n",
              "</table>\n",
              "</div>"
            ],
            "text/plain": [
              "                                           file_name  label message_type  \\\n",
              "3    data/spam/0485.9021367278833179285091e5201f5854      1    text/html   \n",
              "9    data/spam/0108.4506c2ef846b80b9a7beb90315b22701      1    text/html   \n",
              "13   data/spam/0146.6656452972931e859e640f6ac57d2962      1    text/html   \n",
              "16  data/spam/00500.85b72f09f6778a085dc8b6821965a76f      1    text/html   \n",
              "17  data/spam/00493.1c5f59825f7a246187c137614fb1ea82      1    text/html   \n",
              "\n",
              "                                       parsed_message  \\\n",
              "3   <html><head>\\n<title>Congratulations! You Get ...   \n",
              "9   <html>\\n<head>\\n<title>Digital Publishing Tool...   \n",
              "13  <html><head></head><body bgcolor=3Dblack>\\n<ta...   \n",
              "16  <STYLE type=\"text/css\">\\n<!--\\nP{\\n  font-size...   \n",
              "17  <HR>\\n<html>\\n<head>\\n  <title>Secured Investe...   \n",
              "\n",
              "                                      cleaned_message  \n",
              "3   congratulations get free handheld organizer de...  \n",
              "9   digital publishing tools free software alert p...  \n",
              "13                                                     \n",
              "16  hello chinese traditional 21 10 f r v c w n n ...  \n",
              "17  secured investements wealth without risk disco...  "
            ]
          },
          "metadata": {},
          "output_type": "display_data"
        },
        {
          "name": "stdout",
          "output_type": "stream",
          "text": [
            "\n",
            "\n",
            "Top 5 rows for MessageType: multipart/mixed\n"
          ]
        },
        {
          "data": {
            "text/html": [
              "<div>\n",
              "<style scoped>\n",
              "    .dataframe tbody tr th:only-of-type {\n",
              "        vertical-align: middle;\n",
              "    }\n",
              "\n",
              "    .dataframe tbody tr th {\n",
              "        vertical-align: top;\n",
              "    }\n",
              "\n",
              "    .dataframe thead th {\n",
              "        text-align: right;\n",
              "    }\n",
              "</style>\n",
              "<table border=\"1\" class=\"dataframe\">\n",
              "  <thead>\n",
              "    <tr style=\"text-align: right;\">\n",
              "      <th></th>\n",
              "      <th>file_name</th>\n",
              "      <th>label</th>\n",
              "      <th>message_type</th>\n",
              "      <th>parsed_message</th>\n",
              "      <th>cleaned_message</th>\n",
              "    </tr>\n",
              "  </thead>\n",
              "  <tbody>\n",
              "    <tr>\n",
              "      <th>5</th>\n",
              "      <td>data/spam/0343.0630afbe4ee1ffd0db0ffb81c6de98de</td>\n",
              "      <td>1</td>\n",
              "      <td>multipart/mixed</td>\n",
              "      <td>&lt;body lang=EN-US&gt;\\n\\n&lt;div class=Section1&gt;\\n\\n\\...</td>\n",
              "      <td>consantly bombarded called free money making s...</td>\n",
              "    </tr>\n",
              "    <tr>\n",
              "      <th>12</th>\n",
              "      <td>data/spam/00187.efd97ab2034b3384606e21db00014ecb</td>\n",
              "      <td>1</td>\n",
              "      <td>multipart/mixed</td>\n",
              "      <td>\\nSGVyZSdzIHRoZSBob3R0ZXN0IHRoaW5nIGluIERWRHMu...</td>\n",
              "      <td>sgvyzsdzihrozsbob3r0zxn0ihroaw5nigluierwrhmuie...</td>\n",
              "    </tr>\n",
              "    <tr>\n",
              "      <th>26</th>\n",
              "      <td>data/spam/00095.17594a58d6736a8f6a1990b0b92090cd</td>\n",
              "      <td>1</td>\n",
              "      <td>multipart/mixed</td>\n",
              "      <td>\\nQ09QWSBEVkQgTU9WSUVTIFRPIENELVINClJJR0hUIE5P...</td>\n",
              "      <td>q09qwsbevkqgtu9wsuvtifrpienelvincljjr0huie5pvy...</td>\n",
              "    </tr>\n",
              "    <tr>\n",
              "      <th>40</th>\n",
              "      <td>data/spam/0344.8bbe5c7c8269a039761968a1b10a936a</td>\n",
              "      <td>1</td>\n",
              "      <td>multipart/mixed</td>\n",
              "      <td>&lt;body lang=EN-US&gt;\\n\\n&lt;div class=Section1&gt;\\n\\n\\...</td>\n",
              "      <td>consantly bombarded called free money making s...</td>\n",
              "    </tr>\n",
              "    <tr>\n",
              "      <th>50</th>\n",
              "      <td>data/spam/00074.51aab41b27a9ba7736803318a2e4c8de</td>\n",
              "      <td>1</td>\n",
              "      <td>multipart/mixed</td>\n",
              "      <td>\\nPCFET0NUWVBFIEhUTUwgUFVCTElDICItLy9XM0MvL0RU...</td>\n",
              "      <td>pcfet0nuwvbfiehutuwgufvcteldicitly9xm0mvl0rurc...</td>\n",
              "    </tr>\n",
              "  </tbody>\n",
              "</table>\n",
              "</div>"
            ],
            "text/plain": [
              "                                           file_name  label     message_type  \\\n",
              "5    data/spam/0343.0630afbe4ee1ffd0db0ffb81c6de98de      1  multipart/mixed   \n",
              "12  data/spam/00187.efd97ab2034b3384606e21db00014ecb      1  multipart/mixed   \n",
              "26  data/spam/00095.17594a58d6736a8f6a1990b0b92090cd      1  multipart/mixed   \n",
              "40   data/spam/0344.8bbe5c7c8269a039761968a1b10a936a      1  multipart/mixed   \n",
              "50  data/spam/00074.51aab41b27a9ba7736803318a2e4c8de      1  multipart/mixed   \n",
              "\n",
              "                                       parsed_message  \\\n",
              "5   <body lang=EN-US>\\n\\n<div class=Section1>\\n\\n\\...   \n",
              "12  \\nSGVyZSdzIHRoZSBob3R0ZXN0IHRoaW5nIGluIERWRHMu...   \n",
              "26  \\nQ09QWSBEVkQgTU9WSUVTIFRPIENELVINClJJR0hUIE5P...   \n",
              "40  <body lang=EN-US>\\n\\n<div class=Section1>\\n\\n\\...   \n",
              "50  \\nPCFET0NUWVBFIEhUTUwgUFVCTElDICItLy9XM0MvL0RU...   \n",
              "\n",
              "                                      cleaned_message  \n",
              "5   consantly bombarded called free money making s...  \n",
              "12  sgvyzsdzihrozsbob3r0zxn0ihroaw5nigluierwrhmuie...  \n",
              "26  q09qwsbevkqgtu9wsuvtifrpienelvincljjr0huie5pvy...  \n",
              "40  consantly bombarded called free money making s...  \n",
              "50  pcfet0nuwvbfiehutuwgufvcteldicitly9xm0mvl0rurc...  "
            ]
          },
          "metadata": {},
          "output_type": "display_data"
        },
        {
          "name": "stdout",
          "output_type": "stream",
          "text": [
            "\n",
            "\n",
            "Top 5 rows for MessageType: multipart/related\n"
          ]
        },
        {
          "data": {
            "text/html": [
              "<div>\n",
              "<style scoped>\n",
              "    .dataframe tbody tr th:only-of-type {\n",
              "        vertical-align: middle;\n",
              "    }\n",
              "\n",
              "    .dataframe tbody tr th {\n",
              "        vertical-align: top;\n",
              "    }\n",
              "\n",
              "    .dataframe thead th {\n",
              "        text-align: right;\n",
              "    }\n",
              "</style>\n",
              "<table border=\"1\" class=\"dataframe\">\n",
              "  <thead>\n",
              "    <tr style=\"text-align: right;\">\n",
              "      <th></th>\n",
              "      <th>file_name</th>\n",
              "      <th>label</th>\n",
              "      <th>message_type</th>\n",
              "      <th>parsed_message</th>\n",
              "      <th>cleaned_message</th>\n",
              "    </tr>\n",
              "  </thead>\n",
              "  <tbody>\n",
              "    <tr>\n",
              "      <th>113</th>\n",
              "      <td>data/spam/0247.aee6d7984b3dab9a6b0eed524e7a3686</td>\n",
              "      <td>1</td>\n",
              "      <td>multipart/related</td>\n",
              "      <td>&lt;P&gt;&amp;nbsp;&lt;/P&gt;\\n&lt;TABLE cellSpacing=0 cellPaddin...</td>\n",
              "      <td>industry forum minute man ii 160 lbs light req...</td>\n",
              "    </tr>\n",
              "    <tr>\n",
              "      <th>142</th>\n",
              "      <td>data/spam/0479.558d7491db4238443bc549ec06021bae</td>\n",
              "      <td>1</td>\n",
              "      <td>multipart/related</td>\n",
              "      <td>&lt;!-- If this flyer does not appear correctly a...</td>\n",
              "      <td>webxperts design inc build internet flyer appe...</td>\n",
              "    </tr>\n",
              "    <tr>\n",
              "      <th>299</th>\n",
              "      <td>data/spam/00239.2f1370f9cba5ab21297eadb2af40b051</td>\n",
              "      <td>1</td>\n",
              "      <td>multipart/related</td>\n",
              "      <td>PGh0bWw+DQo8aGVhZD4NCjx0aXRsZT5TZWN1cmVQcm8gRF...</td>\n",
              "      <td>pgh0bww dqo8agvhzd4ncjx0axrszt5tzwn1cmvqcm8grf...</td>\n",
              "    </tr>\n",
              "    <tr>\n",
              "      <th>304</th>\n",
              "      <td>data/spam/00311.9797029f3ee441b00f3b7521e573cb96</td>\n",
              "      <td>1</td>\n",
              "      <td>multipart/related</td>\n",
              "      <td>PGh0bWw+DQoNCjxoZWFkPg0KPG1ldGEgaHR0cC1lcXVpdj...</td>\n",
              "      <td>pgh0bww dqoncjxozwfkpg0kpg1ldgegahr0cc1lcxvpdj...</td>\n",
              "    </tr>\n",
              "    <tr>\n",
              "      <th>336</th>\n",
              "      <td>data/spam/0249.c429ab5c1413c4386bf64b228a68e768</td>\n",
              "      <td>1</td>\n",
              "      <td>multipart/related</td>\n",
              "      <td>PGh0bWw+DQo8aGVhZD4NCjx0aXRsZT5TZWN1cmVQcm8gRF...</td>\n",
              "      <td>pgh0bww dqo8agvhzd4ncjx0axrszt5tzwn1cmvqcm8grf...</td>\n",
              "    </tr>\n",
              "  </tbody>\n",
              "</table>\n",
              "</div>"
            ],
            "text/plain": [
              "                                            file_name  label  \\\n",
              "113   data/spam/0247.aee6d7984b3dab9a6b0eed524e7a3686      1   \n",
              "142   data/spam/0479.558d7491db4238443bc549ec06021bae      1   \n",
              "299  data/spam/00239.2f1370f9cba5ab21297eadb2af40b051      1   \n",
              "304  data/spam/00311.9797029f3ee441b00f3b7521e573cb96      1   \n",
              "336   data/spam/0249.c429ab5c1413c4386bf64b228a68e768      1   \n",
              "\n",
              "          message_type                                     parsed_message  \\\n",
              "113  multipart/related  <P>&nbsp;</P>\\n<TABLE cellSpacing=0 cellPaddin...   \n",
              "142  multipart/related  <!-- If this flyer does not appear correctly a...   \n",
              "299  multipart/related  PGh0bWw+DQo8aGVhZD4NCjx0aXRsZT5TZWN1cmVQcm8gRF...   \n",
              "304  multipart/related  PGh0bWw+DQoNCjxoZWFkPg0KPG1ldGEgaHR0cC1lcXVpdj...   \n",
              "336  multipart/related  PGh0bWw+DQo8aGVhZD4NCjx0aXRsZT5TZWN1cmVQcm8gRF...   \n",
              "\n",
              "                                       cleaned_message  \n",
              "113  industry forum minute man ii 160 lbs light req...  \n",
              "142  webxperts design inc build internet flyer appe...  \n",
              "299  pgh0bww dqo8agvhzd4ncjx0axrszt5tzwn1cmvqcm8grf...  \n",
              "304  pgh0bww dqoncjxozwfkpg0kpg1ldgegahr0cc1lcxvpdj...  \n",
              "336  pgh0bww dqo8agvhzd4ncjx0axrszt5tzwn1cmvqcm8grf...  "
            ]
          },
          "metadata": {},
          "output_type": "display_data"
        },
        {
          "name": "stdout",
          "output_type": "stream",
          "text": [
            "\n",
            "\n",
            "Top 5 rows for MessageType: multipart/signed\n"
          ]
        },
        {
          "data": {
            "text/html": [
              "<div>\n",
              "<style scoped>\n",
              "    .dataframe tbody tr th:only-of-type {\n",
              "        vertical-align: middle;\n",
              "    }\n",
              "\n",
              "    .dataframe tbody tr th {\n",
              "        vertical-align: top;\n",
              "    }\n",
              "\n",
              "    .dataframe thead th {\n",
              "        text-align: right;\n",
              "    }\n",
              "</style>\n",
              "<table border=\"1\" class=\"dataframe\">\n",
              "  <thead>\n",
              "    <tr style=\"text-align: right;\">\n",
              "      <th></th>\n",
              "      <th>file_name</th>\n",
              "      <th>label</th>\n",
              "      <th>message_type</th>\n",
              "      <th>parsed_message</th>\n",
              "      <th>cleaned_message</th>\n",
              "    </tr>\n",
              "  </thead>\n",
              "  <tbody>\n",
              "    <tr>\n",
              "      <th>1328</th>\n",
              "      <td>data/hard_ham/0167.e069a1be61effd430e3eea8441f...</td>\n",
              "      <td>0</td>\n",
              "      <td>multipart/signed</td>\n",
              "      <td>Made me chuckle.\\n\\nhttp://www.bloggerheads.co...</td>\n",
              "      <td>made chuckle http www bloggerheads com weblogs...</td>\n",
              "    </tr>\n",
              "    <tr>\n",
              "      <th>1454</th>\n",
              "      <td>data/hard_ham/00183.a008f2e258860eff155bb06a06...</td>\n",
              "      <td>0</td>\n",
              "      <td>multipart/signed</td>\n",
              "      <td>Made me chuckle.\\n\\nhttp://www.bloggerheads.co...</td>\n",
              "      <td>made chuckle http www bloggerheads com weblogs...</td>\n",
              "    </tr>\n",
              "    <tr>\n",
              "      <th>2944</th>\n",
              "      <td>data/easy_ham/1496.c48399a0c3abb60acd00322bdbb...</td>\n",
              "      <td>0</td>\n",
              "      <td>multipart/signed</td>\n",
              "      <td>On Fri, Aug 23, 2002 at 03:03:05PM -0400, Rose...</td>\n",
              "      <td>fri aug 23 2002 03 03 05pm 0400 rose bobby wro...</td>\n",
              "    </tr>\n",
              "    <tr>\n",
              "      <th>3081</th>\n",
              "      <td>data/easy_ham/1079.3d222257b98d7d58a0f970d101b...</td>\n",
              "      <td>0</td>\n",
              "      <td>multipart/signed</td>\n",
              "      <td>\\nOn Tue, 10 Sep 2002 09:27:12 PDT, J C Lawren...</td>\n",
              "      <td>tue 10 sep 2002 09 27 12 pdt j c lawrence writ...</td>\n",
              "    </tr>\n",
              "    <tr>\n",
              "      <th>3111</th>\n",
              "      <td>data/easy_ham/01567.451fa9142ae23a1c09dbbc87a0...</td>\n",
              "      <td>0</td>\n",
              "      <td>multipart/signed</td>\n",
              "      <td>On Thu, Sep 05, 2002 at 06:16:57PM -0500, Mike...</td>\n",
              "      <td>thu sep 05 2002 06 16 57pm 0500 mike burger wr...</td>\n",
              "    </tr>\n",
              "  </tbody>\n",
              "</table>\n",
              "</div>"
            ],
            "text/plain": [
              "                                              file_name  label  \\\n",
              "1328  data/hard_ham/0167.e069a1be61effd430e3eea8441f...      0   \n",
              "1454  data/hard_ham/00183.a008f2e258860eff155bb06a06...      0   \n",
              "2944  data/easy_ham/1496.c48399a0c3abb60acd00322bdbb...      0   \n",
              "3081  data/easy_ham/1079.3d222257b98d7d58a0f970d101b...      0   \n",
              "3111  data/easy_ham/01567.451fa9142ae23a1c09dbbc87a0...      0   \n",
              "\n",
              "          message_type                                     parsed_message  \\\n",
              "1328  multipart/signed  Made me chuckle.\\n\\nhttp://www.bloggerheads.co...   \n",
              "1454  multipart/signed  Made me chuckle.\\n\\nhttp://www.bloggerheads.co...   \n",
              "2944  multipart/signed  On Fri, Aug 23, 2002 at 03:03:05PM -0400, Rose...   \n",
              "3081  multipart/signed  \\nOn Tue, 10 Sep 2002 09:27:12 PDT, J C Lawren...   \n",
              "3111  multipart/signed  On Thu, Sep 05, 2002 at 06:16:57PM -0500, Mike...   \n",
              "\n",
              "                                        cleaned_message  \n",
              "1328  made chuckle http www bloggerheads com weblogs...  \n",
              "1454  made chuckle http www bloggerheads com weblogs...  \n",
              "2944  fri aug 23 2002 03 03 05pm 0400 rose bobby wro...  \n",
              "3081  tue 10 sep 2002 09 27 12 pdt j c lawrence writ...  \n",
              "3111  thu sep 05 2002 06 16 57pm 0500 mike burger wr...  "
            ]
          },
          "metadata": {},
          "output_type": "display_data"
        },
        {
          "name": "stdout",
          "output_type": "stream",
          "text": [
            "\n",
            "\n",
            "Top 5 rows for MessageType: text/plain charset=us-ascii\n"
          ]
        },
        {
          "data": {
            "text/html": [
              "<div>\n",
              "<style scoped>\n",
              "    .dataframe tbody tr th:only-of-type {\n",
              "        vertical-align: middle;\n",
              "    }\n",
              "\n",
              "    .dataframe tbody tr th {\n",
              "        vertical-align: top;\n",
              "    }\n",
              "\n",
              "    .dataframe thead th {\n",
              "        text-align: right;\n",
              "    }\n",
              "</style>\n",
              "<table border=\"1\" class=\"dataframe\">\n",
              "  <thead>\n",
              "    <tr style=\"text-align: right;\">\n",
              "      <th></th>\n",
              "      <th>file_name</th>\n",
              "      <th>label</th>\n",
              "      <th>message_type</th>\n",
              "      <th>parsed_message</th>\n",
              "      <th>cleaned_message</th>\n",
              "    </tr>\n",
              "  </thead>\n",
              "  <tbody>\n",
              "    <tr>\n",
              "      <th>1524</th>\n",
              "      <td>data/spam_2/00204.4cf15f97b8ea08bfafab7d5091b8...</td>\n",
              "      <td>1</td>\n",
              "      <td>text/plain charset=us-ascii</td>\n",
              "      <td>\\nTo:   avfs@fazekas.hu\\nAttn: Marketing Depar...</td>\n",
              "      <td>avfs fazekas hu attn marketing department q so...</td>\n",
              "    </tr>\n",
              "  </tbody>\n",
              "</table>\n",
              "</div>"
            ],
            "text/plain": [
              "                                              file_name  label  \\\n",
              "1524  data/spam_2/00204.4cf15f97b8ea08bfafab7d5091b8...      1   \n",
              "\n",
              "                     message_type  \\\n",
              "1524  text/plain charset=us-ascii   \n",
              "\n",
              "                                         parsed_message  \\\n",
              "1524  \\nTo:   avfs@fazekas.hu\\nAttn: Marketing Depar...   \n",
              "\n",
              "                                        cleaned_message  \n",
              "1524  avfs fazekas hu attn marketing department q so...  "
            ]
          },
          "metadata": {},
          "output_type": "display_data"
        },
        {
          "name": "stdout",
          "output_type": "stream",
          "text": [
            "\n",
            "\n",
            "Top 5 rows for MessageType: multipart/report\n"
          ]
        },
        {
          "data": {
            "text/html": [
              "<div>\n",
              "<style scoped>\n",
              "    .dataframe tbody tr th:only-of-type {\n",
              "        vertical-align: middle;\n",
              "    }\n",
              "\n",
              "    .dataframe tbody tr th {\n",
              "        vertical-align: top;\n",
              "    }\n",
              "\n",
              "    .dataframe thead th {\n",
              "        text-align: right;\n",
              "    }\n",
              "</style>\n",
              "<table border=\"1\" class=\"dataframe\">\n",
              "  <thead>\n",
              "    <tr style=\"text-align: right;\">\n",
              "      <th></th>\n",
              "      <th>file_name</th>\n",
              "      <th>label</th>\n",
              "      <th>message_type</th>\n",
              "      <th>parsed_message</th>\n",
              "      <th>cleaned_message</th>\n",
              "    </tr>\n",
              "  </thead>\n",
              "  <tbody>\n",
              "    <tr>\n",
              "      <th>4097</th>\n",
              "      <td>data/easy_ham/01436.dc449ba377210e77d84647619e...</td>\n",
              "      <td>0</td>\n",
              "      <td>multipart/report</td>\n",
              "      <td>This is a warning message only.\\n  Your messag...</td>\n",
              "      <td>warning message message remains server queue s...</td>\n",
              "    </tr>\n",
              "    <tr>\n",
              "      <th>4208</th>\n",
              "      <td>data/easy_ham/1530.fda9cfd3e1881b3e8c823a35b61...</td>\n",
              "      <td>0</td>\n",
              "      <td>multipart/report</td>\n",
              "      <td>This is a warning message only.\\n  Your messag...</td>\n",
              "      <td>warning message message remains server queue s...</td>\n",
              "    </tr>\n",
              "    <tr>\n",
              "      <th>6319</th>\n",
              "      <td>data/easy_ham/1641.7555c5920365e6315e3f20d8321...</td>\n",
              "      <td>0</td>\n",
              "      <td>multipart/report</td>\n",
              "      <td>Your message was not delivered to\\n \\n    daz@...</td>\n",
              "      <td>message delivered daz jpci net mail message co...</td>\n",
              "    </tr>\n",
              "    <tr>\n",
              "      <th>6847</th>\n",
              "      <td>data/easy_ham/01542.ed72bf2cd81ccd4c076533fb0a...</td>\n",
              "      <td>0</td>\n",
              "      <td>multipart/report</td>\n",
              "      <td>Your message was not delivered to\\n \\n    daz@...</td>\n",
              "      <td>message delivered daz jpci net mail message co...</td>\n",
              "    </tr>\n",
              "    <tr>\n",
              "      <th>8826</th>\n",
              "      <td>data/easy_ham_2/01311.b6a06b3e24130a32172b4c52...</td>\n",
              "      <td>0</td>\n",
              "      <td>multipart/report</td>\n",
              "      <td>This is the Postfix program at host kci.kciLin...</td>\n",
              "      <td>postfix program host kci kcilink com warning n...</td>\n",
              "    </tr>\n",
              "  </tbody>\n",
              "</table>\n",
              "</div>"
            ],
            "text/plain": [
              "                                              file_name  label  \\\n",
              "4097  data/easy_ham/01436.dc449ba377210e77d84647619e...      0   \n",
              "4208  data/easy_ham/1530.fda9cfd3e1881b3e8c823a35b61...      0   \n",
              "6319  data/easy_ham/1641.7555c5920365e6315e3f20d8321...      0   \n",
              "6847  data/easy_ham/01542.ed72bf2cd81ccd4c076533fb0a...      0   \n",
              "8826  data/easy_ham_2/01311.b6a06b3e24130a32172b4c52...      0   \n",
              "\n",
              "          message_type                                     parsed_message  \\\n",
              "4097  multipart/report  This is a warning message only.\\n  Your messag...   \n",
              "4208  multipart/report  This is a warning message only.\\n  Your messag...   \n",
              "6319  multipart/report  Your message was not delivered to\\n \\n    daz@...   \n",
              "6847  multipart/report  Your message was not delivered to\\n \\n    daz@...   \n",
              "8826  multipart/report  This is the Postfix program at host kci.kciLin...   \n",
              "\n",
              "                                        cleaned_message  \n",
              "4097  warning message message remains server queue s...  \n",
              "4208  warning message message remains server queue s...  \n",
              "6319  message delivered daz jpci net mail message co...  \n",
              "6847  message delivered daz jpci net mail message co...  \n",
              "8826  postfix program host kci kcilink com warning n...  "
            ]
          },
          "metadata": {},
          "output_type": "display_data"
        }
      ],
      "source": [
        "# Get the unique message types\n",
        "unique_message_types = data['message_type'].unique()\n",
        "\n",
        "for message_type in unique_message_types:\n",
        "    print(f\"\\n\\nTop 5 rows for MessageType: {message_type}\")\n",
        "    filtered_data = data[data['message_type'] == message_type]\n",
        "    display(filtered_data.head(5))"
      ]
    },
    {
      "cell_type": "code",
      "execution_count": 17,
      "metadata": {
        "colab": {
          "base_uri": "https://localhost:8080/",
          "height": 349
        },
        "id": "_2rOT04rOXhA",
        "outputId": "641c77ac-8aac-4d3a-8cce-90461ad64ffc"
      },
      "outputs": [
        {
          "name": "stdout",
          "output_type": "stream",
          "text": [
            "Count where CleanedMessage is empty: 9\n"
          ]
        },
        {
          "data": {
            "text/html": [
              "<div>\n",
              "<style scoped>\n",
              "    .dataframe tbody tr th:only-of-type {\n",
              "        vertical-align: middle;\n",
              "    }\n",
              "\n",
              "    .dataframe tbody tr th {\n",
              "        vertical-align: top;\n",
              "    }\n",
              "\n",
              "    .dataframe thead th {\n",
              "        text-align: right;\n",
              "    }\n",
              "</style>\n",
              "<table border=\"1\" class=\"dataframe\">\n",
              "  <thead>\n",
              "    <tr style=\"text-align: right;\">\n",
              "      <th></th>\n",
              "      <th>file_name</th>\n",
              "      <th>label</th>\n",
              "      <th>message_type</th>\n",
              "      <th>parsed_message</th>\n",
              "      <th>cleaned_message</th>\n",
              "    </tr>\n",
              "  </thead>\n",
              "  <tbody>\n",
              "    <tr>\n",
              "      <th>13</th>\n",
              "      <td>data/spam/0146.6656452972931e859e640f6ac57d2962</td>\n",
              "      <td>1</td>\n",
              "      <td>text/html</td>\n",
              "      <td>&lt;html&gt;&lt;head&gt;&lt;/head&gt;&lt;body bgcolor=3Dblack&gt;\\n&lt;ta...</td>\n",
              "      <td></td>\n",
              "    </tr>\n",
              "    <tr>\n",
              "      <th>78</th>\n",
              "      <td>data/spam/00139.b2a205ac25d7d907cdfb3f865dbae1ae</td>\n",
              "      <td>1</td>\n",
              "      <td>text/html</td>\n",
              "      <td>&lt;html&gt;&lt;head&gt;&lt;/head&gt;&lt;body bgcolor=3Dblack&gt;\\n&lt;ta...</td>\n",
              "      <td></td>\n",
              "    </tr>\n",
              "    <tr>\n",
              "      <th>282</th>\n",
              "      <td>data/spam/0340.8e191c37e2d30a639013203aacf60086</td>\n",
              "      <td>1</td>\n",
              "      <td>text/html</td>\n",
              "      <td>&lt;HTML&gt;\\n&lt;BODY&gt;\\n&lt;iframe align=\"center\" marginw...</td>\n",
              "      <td></td>\n",
              "    </tr>\n",
              "    <tr>\n",
              "      <th>726</th>\n",
              "      <td>data/spam/00329.af4af411fb1268d1461b29fa2d2145a3</td>\n",
              "      <td>1</td>\n",
              "      <td>text/html</td>\n",
              "      <td>&lt;HTML&gt;\\n&lt;BODY&gt;\\n&lt;iframe align=\"center\" marginw...</td>\n",
              "      <td></td>\n",
              "    </tr>\n",
              "    <tr>\n",
              "      <th>1543</th>\n",
              "      <td>data/spam_2/00266.12e00174bc1346952a8ba2c430e4...</td>\n",
              "      <td>1</td>\n",
              "      <td>text/html</td>\n",
              "      <td>&lt;html&gt;&lt;body&gt;&lt;IMG SRC='http://master2.free4all....</td>\n",
              "      <td></td>\n",
              "    </tr>\n",
              "    <tr>\n",
              "      <th>1902</th>\n",
              "      <td>data/spam_2/00047.3c90d41f59137916d6b80e6f8e16...</td>\n",
              "      <td>1</td>\n",
              "      <td>text/plain</td>\n",
              "      <td>\\n&lt;HTML&gt;\\n&lt;BODY&gt;\\n&lt;!-- saved from url=3D(0022)...</td>\n",
              "      <td></td>\n",
              "    </tr>\n",
              "    <tr>\n",
              "      <th>1994</th>\n",
              "      <td>data/spam_2/01306.d37be8871ac501758c6854fbef9c...</td>\n",
              "      <td>1</td>\n",
              "      <td>multipart/mixed</td>\n",
              "      <td>\\n</td>\n",
              "      <td></td>\n",
              "    </tr>\n",
              "    <tr>\n",
              "      <th>2056</th>\n",
              "      <td>data/spam_2/00267.15fd4bd56e4a0466d3031f8f1680...</td>\n",
              "      <td>1</td>\n",
              "      <td>text/html</td>\n",
              "      <td>&lt;html&gt;&lt;body&gt;&lt;IMG SRC='http://master2.free4all....</td>\n",
              "      <td></td>\n",
              "    </tr>\n",
              "    <tr>\n",
              "      <th>2364</th>\n",
              "      <td>data/spam_2/00046.96a19afe71cd6f1f14c96293557a...</td>\n",
              "      <td>1</td>\n",
              "      <td>text/plain</td>\n",
              "      <td>\\n&lt;HTML&gt;\\n&lt;BODY&gt;\\n&lt;!-- saved from url=3D(0022)...</td>\n",
              "      <td></td>\n",
              "    </tr>\n",
              "  </tbody>\n",
              "</table>\n",
              "</div>"
            ],
            "text/plain": [
              "                                              file_name  label  \\\n",
              "13      data/spam/0146.6656452972931e859e640f6ac57d2962      1   \n",
              "78     data/spam/00139.b2a205ac25d7d907cdfb3f865dbae1ae      1   \n",
              "282     data/spam/0340.8e191c37e2d30a639013203aacf60086      1   \n",
              "726    data/spam/00329.af4af411fb1268d1461b29fa2d2145a3      1   \n",
              "1543  data/spam_2/00266.12e00174bc1346952a8ba2c430e4...      1   \n",
              "1902  data/spam_2/00047.3c90d41f59137916d6b80e6f8e16...      1   \n",
              "1994  data/spam_2/01306.d37be8871ac501758c6854fbef9c...      1   \n",
              "2056  data/spam_2/00267.15fd4bd56e4a0466d3031f8f1680...      1   \n",
              "2364  data/spam_2/00046.96a19afe71cd6f1f14c96293557a...      1   \n",
              "\n",
              "         message_type                                     parsed_message  \\\n",
              "13          text/html  <html><head></head><body bgcolor=3Dblack>\\n<ta...   \n",
              "78          text/html  <html><head></head><body bgcolor=3Dblack>\\n<ta...   \n",
              "282         text/html  <HTML>\\n<BODY>\\n<iframe align=\"center\" marginw...   \n",
              "726         text/html  <HTML>\\n<BODY>\\n<iframe align=\"center\" marginw...   \n",
              "1543        text/html  <html><body><IMG SRC='http://master2.free4all....   \n",
              "1902       text/plain  \\n<HTML>\\n<BODY>\\n<!-- saved from url=3D(0022)...   \n",
              "1994  multipart/mixed                                                 \\n   \n",
              "2056        text/html  <html><body><IMG SRC='http://master2.free4all....   \n",
              "2364       text/plain  \\n<HTML>\\n<BODY>\\n<!-- saved from url=3D(0022)...   \n",
              "\n",
              "     cleaned_message  \n",
              "13                    \n",
              "78                    \n",
              "282                   \n",
              "726                   \n",
              "1543                  \n",
              "1902                  \n",
              "1994                  \n",
              "2056                  \n",
              "2364                  "
            ]
          },
          "execution_count": 17,
          "metadata": {},
          "output_type": "execute_result"
        }
      ],
      "source": [
        "#Find message that empty after parsed and cleaned\n",
        "count_empty_cleaned = (data['cleaned_message'] == \"\").sum()\n",
        "print(\"Count where CleanedMessage is empty:\", count_empty_cleaned)\n",
        "data[data['cleaned_message'] == \"\"]"
      ]
    },
    {
      "cell_type": "code",
      "execution_count": 21,
      "metadata": {
        "colab": {
          "base_uri": "https://localhost:8080/",
          "height": 75
        },
        "id": "uX8v2DcfSrh2",
        "outputId": "b7fd56dd-d43c-42f3-8ac0-5fffad143945"
      },
      "outputs": [
        {
          "data": {
            "text/html": [
              "<style>#sk-container-id-1 {color: black;}#sk-container-id-1 pre{padding: 0;}#sk-container-id-1 div.sk-toggleable {background-color: white;}#sk-container-id-1 label.sk-toggleable__label {cursor: pointer;display: block;width: 100%;margin-bottom: 0;padding: 0.3em;box-sizing: border-box;text-align: center;}#sk-container-id-1 label.sk-toggleable__label-arrow:before {content: \"▸\";float: left;margin-right: 0.25em;color: #696969;}#sk-container-id-1 label.sk-toggleable__label-arrow:hover:before {color: black;}#sk-container-id-1 div.sk-estimator:hover label.sk-toggleable__label-arrow:before {color: black;}#sk-container-id-1 div.sk-toggleable__content {max-height: 0;max-width: 0;overflow: hidden;text-align: left;background-color: #f0f8ff;}#sk-container-id-1 div.sk-toggleable__content pre {margin: 0.2em;color: black;border-radius: 0.25em;background-color: #f0f8ff;}#sk-container-id-1 input.sk-toggleable__control:checked~div.sk-toggleable__content {max-height: 200px;max-width: 100%;overflow: auto;}#sk-container-id-1 input.sk-toggleable__control:checked~label.sk-toggleable__label-arrow:before {content: \"▾\";}#sk-container-id-1 div.sk-estimator input.sk-toggleable__control:checked~label.sk-toggleable__label {background-color: #d4ebff;}#sk-container-id-1 div.sk-label input.sk-toggleable__control:checked~label.sk-toggleable__label {background-color: #d4ebff;}#sk-container-id-1 input.sk-hidden--visually {border: 0;clip: rect(1px 1px 1px 1px);clip: rect(1px, 1px, 1px, 1px);height: 1px;margin: -1px;overflow: hidden;padding: 0;position: absolute;width: 1px;}#sk-container-id-1 div.sk-estimator {font-family: monospace;background-color: #f0f8ff;border: 1px dotted black;border-radius: 0.25em;box-sizing: border-box;margin-bottom: 0.5em;}#sk-container-id-1 div.sk-estimator:hover {background-color: #d4ebff;}#sk-container-id-1 div.sk-parallel-item::after {content: \"\";width: 100%;border-bottom: 1px solid gray;flex-grow: 1;}#sk-container-id-1 div.sk-label:hover label.sk-toggleable__label {background-color: #d4ebff;}#sk-container-id-1 div.sk-serial::before {content: \"\";position: absolute;border-left: 1px solid gray;box-sizing: border-box;top: 0;bottom: 0;left: 50%;z-index: 0;}#sk-container-id-1 div.sk-serial {display: flex;flex-direction: column;align-items: center;background-color: white;padding-right: 0.2em;padding-left: 0.2em;position: relative;}#sk-container-id-1 div.sk-item {position: relative;z-index: 1;}#sk-container-id-1 div.sk-parallel {display: flex;align-items: stretch;justify-content: center;background-color: white;position: relative;}#sk-container-id-1 div.sk-item::before, #sk-container-id-1 div.sk-parallel-item::before {content: \"\";position: absolute;border-left: 1px solid gray;box-sizing: border-box;top: 0;bottom: 0;left: 50%;z-index: -1;}#sk-container-id-1 div.sk-parallel-item {display: flex;flex-direction: column;z-index: 1;position: relative;background-color: white;}#sk-container-id-1 div.sk-parallel-item:first-child::after {align-self: flex-end;width: 50%;}#sk-container-id-1 div.sk-parallel-item:last-child::after {align-self: flex-start;width: 50%;}#sk-container-id-1 div.sk-parallel-item:only-child::after {width: 0;}#sk-container-id-1 div.sk-dashed-wrapped {border: 1px dashed gray;margin: 0 0.4em 0.5em 0.4em;box-sizing: border-box;padding-bottom: 0.4em;background-color: white;}#sk-container-id-1 div.sk-label label {font-family: monospace;font-weight: bold;display: inline-block;line-height: 1.2em;}#sk-container-id-1 div.sk-label-container {text-align: center;}#sk-container-id-1 div.sk-container {/* jupyter's `normalize.less` sets `[hidden] { display: none; }` but bootstrap.min.css set `[hidden] { display: none !important; }` so we also need the `!important` here to be able to override the default hidden behavior on the sphinx rendered scikit-learn.org. See: https://github.com/scikit-learn/scikit-learn/issues/21755 */display: inline-block !important;position: relative;}#sk-container-id-1 div.sk-text-repr-fallback {display: none;}</style><div id=\"sk-container-id-1\" class=\"sk-top-container\"><div class=\"sk-text-repr-fallback\"><pre>GaussianNB()</pre><b>In a Jupyter environment, please rerun this cell to show the HTML representation or trust the notebook. <br />On GitHub, the HTML representation is unable to render, please try loading this page with nbviewer.org.</b></div><div class=\"sk-container\" hidden><div class=\"sk-item\"><div class=\"sk-estimator sk-toggleable\"><input class=\"sk-toggleable__control sk-hidden--visually\" id=\"sk-estimator-id-1\" type=\"checkbox\" checked><label for=\"sk-estimator-id-1\" class=\"sk-toggleable__label sk-toggleable__label-arrow\">GaussianNB</label><div class=\"sk-toggleable__content\"><pre>GaussianNB()</pre></div></div></div></div></div>"
            ],
            "text/plain": [
              "GaussianNB()"
            ]
          },
          "execution_count": 21,
          "metadata": {},
          "output_type": "execute_result"
        }
      ],
      "source": [
        "from sklearn.naive_bayes import GaussianNB\n",
        "from sklearn.feature_extraction.text import CountVectorizer,TfidfVectorizer\n",
        "vectorizer = TfidfVectorizer()\n",
        "out = vectorizer.fit_transform(data['cleaned_message'].astype('str'))\n",
        "ng = GaussianNB()\n",
        "\n",
        "data.rename(columns={'label': 'Target'}, inplace=True)\n",
        "ng.fit(out.toarray(),data['Target'])"
      ]
    },
    {
      "cell_type": "markdown",
      "metadata": {},
      "source": [
        "## Methods"
      ]
    },
    {
      "cell_type": "markdown",
      "metadata": {},
      "source": [
        "### Feature Representation\n",
        "Our analysis began with the conversion of raw email text into a structured format that is compatible with machine learning algorithms. This transformation was achieved using the Bag of Words (BoW) method. BoW translates textual data into numerical vectors, recording the occurrence and frequency of terms (words) in each email. This technique makes it possible to apply machine learning algorithms to the data."
      ]
    },
    {
      "cell_type": "code",
      "execution_count": 24,
      "metadata": {
        "colab": {
          "base_uri": "https://localhost:8080/"
        },
        "id": "bm8525T2e9mP",
        "outputId": "d94311b7-8205-4d64-a9b8-04fab035daa0"
      },
      "outputs": [
        {
          "name": "stdout",
          "output_type": "stream",
          "text": [
            "Bag of Words (BoW) Matrix:\n",
            "[[0 0 0 ... 0 0 0]\n",
            " [0 0 0 ... 0 0 0]\n",
            " [0 0 0 ... 0 0 0]\n",
            " [0 0 0 ... 0 0 0]\n",
            " [0 0 0 ... 0 0 0]]\n",
            "\n",
            "Vocabulary:\n",
            "['00' '000' '0000' '000000' '00000000' '000000000' '00000002' '00000004'\n",
            " '0000001' '0000002' '0000004' '0000015' '0000016' '0000018' '0000020'\n",
            " '0000023' '00000254' '0000035' '0000037' '00001' '00002' '00003' '00004'\n",
            " '00005' '000058' '00005d45' '00006' '00007' '000071' '000076c1' '000077'\n",
            " '00008' '000080' '00009' '0000a0' '0000ff' '00010' '0001004' '0001007'\n",
            " '0001010' '0001011' '0001013' '0001014' '0001015' '0001019'\n",
            " '000101c231b8' '0001021' '0001048' '0001061' '000107']\n"
          ]
        }
      ],
      "source": [
        "from sklearn.feature_extraction.text import CountVectorizer\n",
        "\n",
        "# Create a CountVectorizer\n",
        "bow_vectorizer = CountVectorizer()\n",
        "\n",
        "# Transform the cleaned messages\n",
        "bow = bow_vectorizer.fit_transform(data['cleaned_message'].astype('str'))\n",
        "\n",
        "# Get the vocabulary (list of words)\n",
        "vocabulary = bow_vectorizer.get_feature_names_out()\n",
        "\n",
        "# Convert the sparse matrix to a dense array for better visualization\n",
        "bow_dense = bow.toarray()\n",
        "\n",
        "# Print the first few rows of the BoW matrix\n",
        "print(\"Bag of Words (BoW) Matrix:\")\n",
        "print(bow_dense[:5])  # Print the first 5 rows\n",
        "\n",
        "# Print the corresponding vocabulary\n",
        "print(\"\\nVocabulary:\")\n",
        "print(vocabulary[:50])  # Print the first 50 words"
      ]
    },
    {
      "cell_type": "code",
      "execution_count": 25,
      "metadata": {
        "colab": {
          "base_uri": "https://localhost:8080/"
        },
        "id": "REf3ON4z7b3H",
        "outputId": "4a20de74-b0d6-46cd-d412-11f804d2561c"
      },
      "outputs": [
        {
          "name": "stdout",
          "output_type": "stream",
          "text": [
            "dear homeowner interest rates lowest point 40 years help find best rate situation matching needs hundreds lenders home improvement refinance second mortgage home equity loans even less perfect credit service 100 free home owners new home buyers without obligation fill quick simple form jump start future plans today visit http 61 145 116 186 user0201 index asp afft qm10 unsubscribe please visit http 61 145 116 186 light watch asp\n",
            "100 0.0745856435099315\n",
            "116 0.3123498189205862\n",
            "145 0.2982031854996043\n",
            "186 0.34727155552053696\n",
            "40 0.08503278776538166\n",
            "61 0.23559044396600712\n",
            "afft 0.16010063898394977\n",
            "asp 0.16989016266116203\n",
            "best 0.06571142318306923\n",
            "buyers 0.12693193044965956\n",
            "credit 0.08565694450977596\n",
            "dear 0.0898374923917127\n",
            "equity 0.12200453660264889\n",
            "even 0.06127528835418407\n",
            "fill 0.08913500926057381\n",
            "find 0.06462848790955715\n",
            "form 0.07415713384584091\n",
            "free 0.05373874089473493\n",
            "future 0.07312174688447053\n",
            "help 0.06644015263158612\n",
            "home 0.26516968127930063\n",
            "homeowner 0.1369293123604532\n",
            "http 0.05900493095712305\n",
            "hundreds 0.09581323415268579\n",
            "improvement 0.11295030838145423\n",
            "index 0.09420719434491598\n",
            "interest 0.08789542096974146\n",
            "jump 0.12128272935087514\n",
            "lenders 0.12176123570919124\n",
            "less 0.075667318581526\n",
            "light 0.10913197010272029\n",
            "loans 0.1168118593181863\n",
            "lowest 0.10369080830322733\n",
            "matching 0.12693193044965956\n",
            "mortgage 0.10732584238013111\n",
            "needs 0.08677091187593174\n",
            "new 0.05035218216067325\n",
            "obligation 0.10600592558899082\n",
            "owners 0.11110358575444293\n",
            "perfect 0.10554533262602751\n",
            "plans 0.10695776675095785\n",
            "please 0.0558753527559146\n",
            "point 0.07668659812877167\n",
            "qm10 0.18375584889174176\n",
            "quick 0.0932208279973189\n",
            "rate 0.09028146482125932\n",
            "rates 0.0915518111930694\n",
            "refinance 0.12035648331818904\n",
            "second 0.0834245509370526\n",
            "service 0.0713516694470512\n",
            "simple 0.08302056347716219\n",
            "situation 0.10103889030708475\n",
            "start 0.07735289854991564\n",
            "today 0.06662625491346734\n",
            "unsubscribe 0.06878714512598233\n",
            "user0201 0.1649053436102808\n",
            "visit 0.15951731391487284\n",
            "watch 0.09892795383578964\n",
            "without 0.06956561808952692\n",
            "years 0.06941616453976768\n"
          ]
        }
      ],
      "source": [
        "print(data['cleaned_message'][0])\n",
        "reverse = {value: key for key, value in vectorizer.vocabulary_.items()}\n",
        "\n",
        "# Access the non-zero values in the BoW representation for the first document\n",
        "for i in range(len(reverse)):\n",
        "    count = out[0].toarray()[0, i]\n",
        "    if count != 0:\n",
        "        word = reverse[i]\n",
        "        print(word, count)\n"
      ]
    },
    {
      "cell_type": "code",
      "execution_count": 27,
      "metadata": {
        "colab": {
          "base_uri": "https://localhost:8080/",
          "height": 75
        },
        "id": "gcdy78FQA-ZN",
        "outputId": "183b5038-5291-4ec0-a255-99131efe606c"
      },
      "outputs": [
        {
          "data": {
            "text/html": [
              "<style>#sk-container-id-2 {color: black;}#sk-container-id-2 pre{padding: 0;}#sk-container-id-2 div.sk-toggleable {background-color: white;}#sk-container-id-2 label.sk-toggleable__label {cursor: pointer;display: block;width: 100%;margin-bottom: 0;padding: 0.3em;box-sizing: border-box;text-align: center;}#sk-container-id-2 label.sk-toggleable__label-arrow:before {content: \"▸\";float: left;margin-right: 0.25em;color: #696969;}#sk-container-id-2 label.sk-toggleable__label-arrow:hover:before {color: black;}#sk-container-id-2 div.sk-estimator:hover label.sk-toggleable__label-arrow:before {color: black;}#sk-container-id-2 div.sk-toggleable__content {max-height: 0;max-width: 0;overflow: hidden;text-align: left;background-color: #f0f8ff;}#sk-container-id-2 div.sk-toggleable__content pre {margin: 0.2em;color: black;border-radius: 0.25em;background-color: #f0f8ff;}#sk-container-id-2 input.sk-toggleable__control:checked~div.sk-toggleable__content {max-height: 200px;max-width: 100%;overflow: auto;}#sk-container-id-2 input.sk-toggleable__control:checked~label.sk-toggleable__label-arrow:before {content: \"▾\";}#sk-container-id-2 div.sk-estimator input.sk-toggleable__control:checked~label.sk-toggleable__label {background-color: #d4ebff;}#sk-container-id-2 div.sk-label input.sk-toggleable__control:checked~label.sk-toggleable__label {background-color: #d4ebff;}#sk-container-id-2 input.sk-hidden--visually {border: 0;clip: rect(1px 1px 1px 1px);clip: rect(1px, 1px, 1px, 1px);height: 1px;margin: -1px;overflow: hidden;padding: 0;position: absolute;width: 1px;}#sk-container-id-2 div.sk-estimator {font-family: monospace;background-color: #f0f8ff;border: 1px dotted black;border-radius: 0.25em;box-sizing: border-box;margin-bottom: 0.5em;}#sk-container-id-2 div.sk-estimator:hover {background-color: #d4ebff;}#sk-container-id-2 div.sk-parallel-item::after {content: \"\";width: 100%;border-bottom: 1px solid gray;flex-grow: 1;}#sk-container-id-2 div.sk-label:hover label.sk-toggleable__label {background-color: #d4ebff;}#sk-container-id-2 div.sk-serial::before {content: \"\";position: absolute;border-left: 1px solid gray;box-sizing: border-box;top: 0;bottom: 0;left: 50%;z-index: 0;}#sk-container-id-2 div.sk-serial {display: flex;flex-direction: column;align-items: center;background-color: white;padding-right: 0.2em;padding-left: 0.2em;position: relative;}#sk-container-id-2 div.sk-item {position: relative;z-index: 1;}#sk-container-id-2 div.sk-parallel {display: flex;align-items: stretch;justify-content: center;background-color: white;position: relative;}#sk-container-id-2 div.sk-item::before, #sk-container-id-2 div.sk-parallel-item::before {content: \"\";position: absolute;border-left: 1px solid gray;box-sizing: border-box;top: 0;bottom: 0;left: 50%;z-index: -1;}#sk-container-id-2 div.sk-parallel-item {display: flex;flex-direction: column;z-index: 1;position: relative;background-color: white;}#sk-container-id-2 div.sk-parallel-item:first-child::after {align-self: flex-end;width: 50%;}#sk-container-id-2 div.sk-parallel-item:last-child::after {align-self: flex-start;width: 50%;}#sk-container-id-2 div.sk-parallel-item:only-child::after {width: 0;}#sk-container-id-2 div.sk-dashed-wrapped {border: 1px dashed gray;margin: 0 0.4em 0.5em 0.4em;box-sizing: border-box;padding-bottom: 0.4em;background-color: white;}#sk-container-id-2 div.sk-label label {font-family: monospace;font-weight: bold;display: inline-block;line-height: 1.2em;}#sk-container-id-2 div.sk-label-container {text-align: center;}#sk-container-id-2 div.sk-container {/* jupyter's `normalize.less` sets `[hidden] { display: none; }` but bootstrap.min.css set `[hidden] { display: none !important; }` so we also need the `!important` here to be able to override the default hidden behavior on the sphinx rendered scikit-learn.org. See: https://github.com/scikit-learn/scikit-learn/issues/21755 */display: inline-block !important;position: relative;}#sk-container-id-2 div.sk-text-repr-fallback {display: none;}</style><div id=\"sk-container-id-2\" class=\"sk-top-container\"><div class=\"sk-text-repr-fallback\"><pre>GaussianNB()</pre><b>In a Jupyter environment, please rerun this cell to show the HTML representation or trust the notebook. <br />On GitHub, the HTML representation is unable to render, please try loading this page with nbviewer.org.</b></div><div class=\"sk-container\" hidden><div class=\"sk-item\"><div class=\"sk-estimator sk-toggleable\"><input class=\"sk-toggleable__control sk-hidden--visually\" id=\"sk-estimator-id-2\" type=\"checkbox\" checked><label for=\"sk-estimator-id-2\" class=\"sk-toggleable__label sk-toggleable__label-arrow\">GaussianNB</label><div class=\"sk-toggleable__content\"><pre>GaussianNB()</pre></div></div></div></div></div>"
            ],
            "text/plain": [
              "GaussianNB()"
            ]
          },
          "execution_count": 27,
          "metadata": {},
          "output_type": "execute_result"
        }
      ],
      "source": [
        "from sklearn.naive_bayes import GaussianNB\n",
        "from sklearn.feature_extraction.text import CountVectorizer,TfidfVectorizer\n",
        "\n",
        "vectorizer = TfidfVectorizer()\n",
        "out = vectorizer.fit_transform(data['cleaned_message'].astype('str'))\n",
        "ng = GaussianNB()\n",
        "ng.fit(out.toarray(),data['Target'])"
      ]
    },
    {
      "cell_type": "markdown",
      "metadata": {},
      "source": [
        "## Clustering\n",
        "\n",
        "The main aim of this clustering process was to organize similar emails into groups based on their content. As a result, we generated cluster labels, which were then incorporated as additional features into our dataset. This creative strategy was designed to reveal hidden patterns and structures in the email data."
      ]
    },
    {
      "cell_type": "code",
      "execution_count": 28,
      "metadata": {
        "colab": {
          "base_uri": "https://localhost:8080/"
        },
        "id": "yMbusyqAOwGi",
        "outputId": "f9c9d8ea-9cfb-45ed-9fe5-0c8b7c59da9a"
      },
      "outputs": [
        {
          "name": "stderr",
          "output_type": "stream",
          "text": [
            "/Library/Frameworks/Python.framework/Versions/3.11/lib/python3.11/site-packages/sklearn/cluster/_kmeans.py:1412: FutureWarning: The default value of `n_init` will change from 10 to 'auto' in 1.4. Set the value of `n_init` explicitly to suppress the warning\n",
            "  super()._check_params_vs_input(X, default_n_init=10)\n",
            "/Library/Frameworks/Python.framework/Versions/3.11/lib/python3.11/site-packages/sklearn/cluster/_kmeans.py:1412: FutureWarning: The default value of `n_init` will change from 10 to 'auto' in 1.4. Set the value of `n_init` explicitly to suppress the warning\n",
            "  super()._check_params_vs_input(X, default_n_init=10)\n",
            "/Library/Frameworks/Python.framework/Versions/3.11/lib/python3.11/site-packages/sklearn/cluster/_kmeans.py:1412: FutureWarning: The default value of `n_init` will change from 10 to 'auto' in 1.4. Set the value of `n_init` explicitly to suppress the warning\n",
            "  super()._check_params_vs_input(X, default_n_init=10)\n",
            "/Library/Frameworks/Python.framework/Versions/3.11/lib/python3.11/site-packages/sklearn/cluster/_kmeans.py:1412: FutureWarning: The default value of `n_init` will change from 10 to 'auto' in 1.4. Set the value of `n_init` explicitly to suppress the warning\n",
            "  super()._check_params_vs_input(X, default_n_init=10)\n",
            "/Library/Frameworks/Python.framework/Versions/3.11/lib/python3.11/site-packages/sklearn/cluster/_kmeans.py:1412: FutureWarning: The default value of `n_init` will change from 10 to 'auto' in 1.4. Set the value of `n_init` explicitly to suppress the warning\n",
            "  super()._check_params_vs_input(X, default_n_init=10)\n",
            "/Library/Frameworks/Python.framework/Versions/3.11/lib/python3.11/site-packages/sklearn/cluster/_kmeans.py:1412: FutureWarning: The default value of `n_init` will change from 10 to 'auto' in 1.4. Set the value of `n_init` explicitly to suppress the warning\n",
            "  super()._check_params_vs_input(X, default_n_init=10)\n",
            "/Library/Frameworks/Python.framework/Versions/3.11/lib/python3.11/site-packages/sklearn/cluster/_kmeans.py:1412: FutureWarning: The default value of `n_init` will change from 10 to 'auto' in 1.4. Set the value of `n_init` explicitly to suppress the warning\n",
            "  super()._check_params_vs_input(X, default_n_init=10)\n",
            "/Library/Frameworks/Python.framework/Versions/3.11/lib/python3.11/site-packages/sklearn/cluster/_kmeans.py:1412: FutureWarning: The default value of `n_init` will change from 10 to 'auto' in 1.4. Set the value of `n_init` explicitly to suppress the warning\n",
            "  super()._check_params_vs_input(X, default_n_init=10)\n",
            "/Library/Frameworks/Python.framework/Versions/3.11/lib/python3.11/site-packages/sklearn/cluster/_kmeans.py:1412: FutureWarning: The default value of `n_init` will change from 10 to 'auto' in 1.4. Set the value of `n_init` explicitly to suppress the warning\n",
            "  super()._check_params_vs_input(X, default_n_init=10)\n"
          ]
        },
        {
          "name": "stdout",
          "output_type": "stream",
          "text": [
            "Best K: 9\n",
            "Best Silhouette Score: 0.029344094673075374\n"
          ]
        }
      ],
      "source": [
        "from sklearn.cluster import KMeans\n",
        "from sklearn.metrics import silhouette_score\n",
        "import numpy as np\n",
        "\n",
        "k_values = range(2, 11)  \n",
        "\n",
        "silhouette_scores = []\n",
        "\n",
        "# Calculate Silhouette Score for each K\n",
        "for k in k_values:\n",
        "    kmeans = KMeans(n_clusters=k, random_state=0)\n",
        "    cluster_labels = kmeans.fit_predict(out.toarray())\n",
        "\n",
        "    silhouette_avg = silhouette_score(out.toarray(), cluster_labels)\n",
        "    silhouette_scores.append(silhouette_avg)\n",
        "\n",
        "best_k = k_values[np.argmax(silhouette_scores)]\n",
        "best_score = max(silhouette_scores)\n",
        "\n",
        "print(f\"Best K: {best_k}\")\n",
        "print(f\"Best Silhouette Score: {best_score}\")\n"
      ]
    },
    {
      "cell_type": "markdown",
      "metadata": {},
      "source": [
        "This scatter plot visualizes the outcomes of K-Means clustering, showcasing how emails have been grouped into 9 distinct clusters. Each point on the plot represents an email, its position indicating its cluster assignment. This visual aids in understanding clustering patterns and relationships in dataset."
      ]
    },
    {
      "cell_type": "code",
      "execution_count": 29,
      "metadata": {
        "colab": {
          "base_uri": "https://localhost:8080/"
        },
        "id": "7xZp3Rqb8A1e",
        "outputId": "9f7195eb-ba04-4887-efb0-7d290e8d5556"
      },
      "outputs": [
        {
          "name": "stderr",
          "output_type": "stream",
          "text": [
            "/Library/Frameworks/Python.framework/Versions/3.11/lib/python3.11/site-packages/sklearn/cluster/_kmeans.py:1412: FutureWarning: The default value of `n_init` will change from 10 to 'auto' in 1.4. Set the value of `n_init` explicitly to suppress the warning\n",
            "  super()._check_params_vs_input(X, default_n_init=10)\n"
          ]
        }
      ],
      "source": [
        "from sklearn.cluster import KMeans\n",
        "\n",
        "# Perform clustering on the TF-IDF matrix; clustering as a new feature\n",
        "num_clusters = 9 \n",
        "kmeans = KMeans(n_clusters=num_clusters, random_state=0)\n",
        "cluster_labels = kmeans.fit_predict(out.toarray())\n",
        "\n",
        "data['Cluster'] = cluster_labels"
      ]
    },
    {
      "cell_type": "code",
      "execution_count": 30,
      "metadata": {
        "colab": {
          "base_uri": "https://localhost:8080/",
          "height": 564
        },
        "id": "ySGGMkjQXsYh",
        "outputId": "e702a4d0-8765-4bbd-8aa3-d3af3a1805db"
      },
      "outputs": [
        {
          "data": {
            "image/png": "[encoded data removed]",
            "text/plain": [
              "<Figure size 800x600 with 1 Axes>"
            ]
          },
          "metadata": {},
          "output_type": "display_data"
        }
      ],
      "source": [
        "from sklearn.decomposition import PCA\n",
        "import matplotlib.pyplot as plt\n",
        "\n",
        "# Reduce dimensionality to 2D using PCA\n",
        "pca = PCA(n_components=2)\n",
        "pca_result = pca.fit_transform(out.toarray())\n",
        "\n",
        "pca_df = pd.DataFrame(data=pca_result, columns=['PCA1', 'PCA2'])\n",
        "pca_df['Cluster'] = cluster_labels\n",
        "\n",
        "plt.figure(figsize=(8, 6))\n",
        "for cluster in range(num_clusters):\n",
        "    cluster_data = pca_df[pca_df['Cluster'] == cluster]\n",
        "    plt.scatter(cluster_data['PCA1'], cluster_data['PCA2'], label=f'Cluster {cluster}' ,s=5)\n",
        "plt.title('Scatterplot of Clusters')\n",
        "plt.xlabel('PCA1')\n",
        "plt.ylabel('PCA2')\n",
        "plt.legend()\n",
        "plt.show()"
      ]
    },
    {
      "cell_type": "markdown",
      "metadata": {},
      "source": [
        "When examining the range from K=2 to K=11, the attainment of a Silhouette Score of 0.0305 at K=10 implies that the clusters formed by the K-Means clustering technique lack distinct separation, given the proximity of the score to zero. Although the Silhouette Score is not a definitive metric for assessing the quality of clustering and its interpretation can differ based on context, a score this low suggests that the data points are not distinctly grouped together, or that the clustering may not hold significant meaning."
      ]
    },
    {
      "cell_type": "code",
      "execution_count": 31,
      "metadata": {
        "colab": {
          "base_uri": "https://localhost:8080/"
        },
        "id": "WXoGv0SsNmAo",
        "outputId": "b9266a8c-f591-423a-ddab-0f525fef4baa"
      },
      "outputs": [
        {
          "name": "stdout",
          "output_type": "stream",
          "text": [
            "Silhouette Score: 0.029344094673075374\n"
          ]
        }
      ],
      "source": [
        "from sklearn.metrics import silhouette_score\n",
        "\n",
        "# Calculate the Silhouette Score\n",
        "silhouette_avg = silhouette_score(out.toarray(), cluster_labels)\n",
        "print(\"Silhouette Score:\", silhouette_avg)"
      ]
    },
    {
      "cell_type": "code",
      "execution_count": 32,
      "metadata": {
        "colab": {
          "base_uri": "https://localhost:8080/",
          "height": 284
        },
        "id": "1kqvBNxS_VX5",
        "outputId": "575a2ae7-2414-4914-a1b8-a0873ed93d5c"
      },
      "outputs": [
        {
          "name": "stderr",
          "output_type": "stream",
          "text": [
            "/Library/Frameworks/Python.framework/Versions/3.11/lib/python3.11/site-packages/seaborn/axisgrid.py:118: UserWarning: The figure layout has changed to tight\n",
            "  self._figure.tight_layout(*args, **kwargs)\n"
          ]
        },
        {
          "data": {
            "image/png": "[encoded data removed]",
            "text/plain": [
              "<Figure size 310.361x250 with 2 Axes>"
            ]
          },
          "metadata": {},
          "output_type": "display_data"
        }
      ],
      "source": [
        "import matplotlib.pyplot as plt\n",
        "import seaborn as sns\n",
        "\n",
        "# Assuming 'data' has a 'Cluster' column with cluster labels\n",
        "\n",
        "# Create a pairplot with cluster coloring\n",
        "sns.pairplot(data=data, hue='Cluster', palette='viridis')\n",
        "plt.title('Cluster Visualization')\n",
        "plt.show()"
      ]
    },
    {
      "cell_type": "markdown",
      "metadata": {},
      "source": [
        "## Data Modeling: Naive Bayes\n",
        "\n",
        "We began constructing an email classification model after implementing our feature engineering. Gaussian Naive Bayes (NB) was chosen as the classifier for its effectiveness in handling text classification tasks. The model was trained using a combination of TF-IDF features and cluster labels, with the class labels designating each email as either spam or non-spam.\n",
        "\n",
        "In order to assess the performance of our Gaussian NB model, we employed a comprehensive 5-fold cross-validation technique. This approach guarantees the stability and general applicability of our model by evaluating its performance across diverse segments of the dataset."
      ]
    },
    {
      "cell_type": "code",
      "execution_count": 33,
      "metadata": {
        "colab": {
          "base_uri": "https://localhost:8080/"
        },
        "id": "1o9ge7un8Qt4",
        "outputId": "8a746694-c4a9-4c60-fe00-d62e9d58fa6c"
      },
      "outputs": [
        {
          "name": "stdout",
          "output_type": "stream",
          "text": [
            "Classification Report:\n",
            "              precision    recall  f1-score   support\n",
            "\n",
            "           0       0.97      1.00      0.99      1397\n",
            "           1       0.99      0.92      0.96       474\n",
            "\n",
            "    accuracy                           0.98      1871\n",
            "   macro avg       0.98      0.96      0.97      1871\n",
            "weighted avg       0.98      0.98      0.98      1871\n",
            "\n",
            "Confusion Matrix:\n",
            "[[1394    3]\n",
            " [  38  436]]\n",
            "\n",
            "Cross-Validated Accuracy Scores:\n",
            "[0.96098343 0.97648316 0.94708712 0.95347594 0.94331551]\n"
          ]
        }
      ],
      "source": [
        "from sklearn.naive_bayes import GaussianNB\n",
        "from sklearn.metrics import classification_report, confusion_matrix\n",
        "from sklearn.model_selection import train_test_split, cross_val_score\n",
        "\n",
        "# Split the data into training and testing sets\n",
        "X_train, X_test, y_train, y_test = train_test_split(out.toarray(), data['Target'], test_size=0.2, random_state=42)\n",
        "\n",
        "# Train a Gaussian Naive Bayes classifier on the training data\n",
        "ng = GaussianNB()\n",
        "ng.fit(X_train, y_train)\n",
        "\n",
        "# Make predictions on the test data\n",
        "y_pred = ng.predict(X_test)\n",
        "\n",
        "# Generate a classification report and confusion matrix for the test set\n",
        "report = classification_report(y_test, y_pred)\n",
        "matrix = confusion_matrix(y_test, y_pred)\n",
        "\n",
        "# Output the classification report and confusion matrix\n",
        "print(\"Classification Report:\")\n",
        "print(report)\n",
        "\n",
        "print(\"Confusion Matrix:\")\n",
        "print(matrix)\n",
        "\n",
        "# Use cross-validation to assess the model's performance\n",
        "cross_val_scores = cross_val_score(ng, out.toarray(), data['Target'], cv=5, n_jobs=1, scoring='accuracy')\n",
        "\n",
        "# Output cross-validated accuracy scores\n",
        "print(\"\\nCross-Validated Accuracy Scores:\")\n",
        "print(cross_val_scores)"
      ]
    },
    {
      "cell_type": "markdown",
      "metadata": {},
      "source": [
        "In our Classification Report, we observed impressive results. For non-spam emails (label 0), we obtained a precision of 0.97 and a perfect recall of 1.00, yielding an F1-score of 0.99. This reflects the model's ability to accurately predict non-spam emails and correctly identify all instances of this class. On the other hand, the precision for spam emails (label 1) was 0.99, with a recall of 0.92, resulting in an F1-score of 0.96. While the precision is high, the recall indicates that the model overlooked some spam emails, classifying them as false negatives.\n",
        "\n",
        "The overall accuracy of our model stood at 98%, showcasing its capability to accurately classify the majority of emails in the test dataset. Furthermore, the macro averages for precision, recall, and F1-score were 0.98, 0.96, and 0.97, respectively. These averages treat all classes equally, providing a balanced evaluation of our model's performance. On the other hand, the weighted averages, which account for class imbalance, were also strong at 0.98 for precision, recall, and F1-score. This underlines the model's effectiveness in real-world scenarios where class distribution might be uneven.\n",
        "\n",
        "Our Confusion Matrix shows that out of 1397 non-spam emails, 1394 were correctly classified, and only 3 were misclassified. For spam emails, out of 474, 436 were correctly identified while 38 were misclassified. This matrix further confirms the high performance and reliability of our Gaussian Naive Bayes model in classifying emails.\n",
        "\n",
        "**Confusion Matrix:**\n",
        "- **True Positives (TP):** 429 emails were correctly classified as spam.\n",
        "- **True Negatives (TN):** 1387 emails were correctly classified as non-spam.\n",
        "- **False Positives (FP):** 4 non-spam emails were incorrectly classified as spam.\n",
        "- **False Negatives (FN):** 51 spam emails were incorrectly classified as non-spam.\n",
        "\n",
        "**Cross-Validated Accuracy Scores:**\n",
        "The cross-validated accuracy scores show that the model's accuracy is consistent across different folds, with values ranging from approximately 0.93 to 0.99."
      ]
    },
    {
      "cell_type": "markdown",
      "metadata": {},
      "source": [
        "## Threshold Tuning\n",
        "\n",
        "The performance of the email classification model has been impressive when utilizing the default threshold of 0.5. Nonetheless, to enhance its functionality, particularly the recall of spam emails, we could modify the threshold settings.Increasing the threshold can aid in diminishing false positives (erroneously categorizing non-spam emails as spam), whereas lowering it can help reduce false negatives (ensuring more spam emails are accurately identified).\n",
        "\n",
        "Selecting a threshold around 0.87, which corresponds to a precision score of 0.9, allows us to reach a heightened confidence level in our spam email predictions."
      ]
    },
    {
      "cell_type": "code",
      "execution_count": 35,
      "metadata": {
        "colab": {
          "base_uri": "https://localhost:8080/",
          "height": 564
        },
        "id": "u7ETkia7B2h8",
        "outputId": "6b58e42a-570f-4008-b53a-c84e99afc329"
      },
      "outputs": [
        {
          "data": {
            "image/png": "[encoded data removed]",
            "text/plain": [
              "<Figure size 800x600 with 1 Axes>"
            ]
          },
          "metadata": {},
          "output_type": "display_data"
        }
      ],
      "source": [
        "import matplotlib.pyplot as plt\n",
        "from sklearn.metrics import precision_recall_curve\n",
        "\n",
        "# Compute precision and recall for different threshold values\n",
        "precisions, recalls, thresholds = precision_recall_curve(y_test, ng.predict_proba(X_test)[:, 1])\n",
        "\n",
        "# Plot the precision-recall curve\n",
        "plt.figure(figsize=(8, 6))\n",
        "plt.plot(thresholds, precisions[:-1], label=\"Precision\", color='b')\n",
        "plt.plot(thresholds, recalls[:-1], label=\"Recall\", color='r')\n",
        "plt.xlabel(\"Threshold\")\n",
        "plt.ylabel(\"Score\")\n",
        "plt.title(\"Precision-Recall Curve\")\n",
        "plt.legend(loc=\"best\")\n",
        "plt.grid(True)\n",
        "plt.show()\n"
      ]
    },
    {
      "cell_type": "markdown",
      "metadata": {
        "id": "h7GtPkmAHYiv"
      },
      "source": [
        "## Conclusion\n",
        "The project aimed to develop a robust email classification system to differentiate between legitimate emails and spam, thus offering users a clutter-free and secure communication experience. The project was successful in achieving this goal through a comprehensive approach, including data preprocessing, feature engineering, model selection, and evaluation.\n",
        "\n",
        "The first step involved transforming raw email text into a structured format compatible with machine learning algorithms. This was achieved using the Bag of Words (BoW) method, which translates textual data into numerical vectors. The data was then preprocessed and cleaned, with careful attention to HTML tags, special characters, and email metadata. The cleaned data was found to be 99% accurate.\n",
        "\n",
        "In the subsequent phase, the data was clustered to group similar emails based on their content. This innovative approach aimed to uncover latent patterns and structures within the email data. The clustering process revealed that text/html and text/plain constituted a significant 92% of the dataset, with the remaining 8% comprising various multipart messages.\n",
        "\n",
        "The main data modeling approach employed in the project was the Gaussian Naive Bayes (NB) classifier, which proved effective for the text classification task. The model was trained using a combination of TF-IDF features and cluster labels, and its performance was assessed using a 5-fold cross-validation technique. The model achieved impressive results, with an overall accuracy of 98% and high precision and recall scores for both spam and non-spam emails.\n",
        "\n",
        "The project also explored threshold tuning to enhance the model's performance, especially in improving spam email recall. By adjusting the threshold, the model could be optimized to reduce false positives or false negatives, depending on the goal.\n",
        "\n",
        "In conclusion, the project successfully developed a spam classification system that leverages machine learning and natural language processing techniques to classify emails accurately. This system has significant implications for email filtering, cybersecurity, and information management, contributing to a safer and more efficient digital communication environment."
      ]
    },
    {
      "cell_type": "markdown",
      "metadata": {},
      "source": []
    }
  ],
  "metadata": {
    "colab": {
      "machine_shape": "hm",
      "provenance": []
    },
    "kernelspec": {
      "display_name": "Python 3",
      "name": "python3"
    },
    "language_info": {
      "codemirror_mode": {
        "name": "ipython",
        "version": 3
      },
      "file_extension": ".py",
      "mimetype": "text/x-python",
      "name": "python",
      "nbconvert_exporter": "python",
      "pygments_lexer": "ipython3",
      "version": "3.11.4"
    }
  },
  "nbformat": 4,
  "nbformat_minor": 0
}
