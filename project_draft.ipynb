{
 "cells": [
  {
   "cell_type": "markdown",
   "metadata": {},
   "source": [
    "# Spam Classification\n",
    "## Danny Chang, Joey Hernandez\n",
    "\n",
    "In an era of constant digital communication, the relentless influx of messages and emails can be overwhelming. Among these, a significant portion comprises unwanted and potentially harmful spam messages, which can disrupt productivity and pose security risks. To combat this issue, we embark on a Data Science project aimed at developing a robust spam classification system.\n",
    "\n",
    "Our goal is to create an intelligent algorithm that can automatically differentiate between legitimate messages and spam, providing users with a clutter-free and secure communication experience. By leveraging the power of machine learning and data analysis, we intend to build a predictive model capable of classifying messages and emails as either \"Spam\" or \"Not Spam\" with a high degree of accuracy.\n",
    "\n",
    "This project will entail various stages, including data collection, preprocessing, feature engineering, model selection, and evaluation. We will draw upon a diverse dataset of messages and emails, encompassing a wide range of characteristics, to train and fine-tune our classification model. Throughout the process, we will explore advanced techniques in natural language processing (NLP) and machine learning to enhance our model's performance and adaptability.\n",
    "\n",
    "The successful completion of this project will not only help individuals manage their digital communications more effectively but also have broader applications in email filtering, cybersecurity, and information management. By mitigating the impact of spam, we aim to contribute to a safer and more efficient digital communication environment."
   ]
  },
  {
   "cell_type": "markdown",
   "metadata": {},
   "source": [
    "## Importing Our Data"
   ]
  },
  {
   "cell_type": "code",
   "execution_count": 13,
   "metadata": {},
   "outputs": [],
   "source": [
    "import os\n",
    "import pandas as pd\n",
    "import email\n",
    "import matplotlib.pyplot as plt\n",
    "import seaborn as sns\n",
    "import numpy as np\n",
    "\n",
    "from sklearn.preprocessing import StandardScaler"
   ]
  },
  {
   "cell_type": "code",
   "execution_count": 2,
   "metadata": {},
   "outputs": [
    {
     "name": "stdout",
     "output_type": "stream",
     "text": [
      "From rssfeeds@jmason.org  Mon Sep 30 13:43:46 2002\n",
      "Return-Path: <rssfeeds@example.com>\n",
      "Delivered-To: yyyy@localhost.example.com\n",
      "Received: from localhost (jalapeno [127.0.0.1])\n",
      "\tby jmason.org (Postfix) with ESMTP id AE79816F16\n",
      "\tfor <jm@localhost>; Mon, 30 Sep 2002 13:43:46 +0100 (IST)\n",
      "Received: from jalapeno [127.0.0.1]\n",
      "\tby localhost with IMAP (fetchmail-5.9.0)\n",
      "\tfor jm@localhost (single-drop); Mon, 30 Sep 2002 13:43:46 +0100 (IST)\n",
      "Received: from dogma.slashnull.org (localhost [127.0.0.1]) by\n",
      "    dogma.slashnull.org (8.11.6/8.11.6) with ESMTP id g8U81fg21359 for\n",
      "    <jm@jmason.org>; Mon, 30 Sep 2002 09:01:41 +0100\n",
      "Message-Id: <200209300801.g8U81fg21359@dogma.slashnull.org>\n",
      "To: yyyy@example.com\n",
      "From: gamasutra <rssfeeds@example.com>\n",
      "Subject: Priceless Rubens works stolen in raid on mansion\n",
      "Date: Mon, 30 Sep 2002 08:01:41 -0000\n",
      "Content-Type: text/plain; encoding=utf-8\n",
      "Lines: 6\n",
      "X-Spam-Status: No, hits=-527.4 required=5.0\n",
      "\ttests=AWL,DATE_IN_PAST_03_06,T_URI_COUNT_0_1\n",
      "\tversion=2.50-cvs\n",
      "X-Spam-Level: \n",
      "\n",
      "URL: http://www.newsisfree.com/click/-1,8381145,215/\n",
      "Date: 2002-09-30T03:04:58+01:00\n",
      "\n",
      "*Arts:* Fourth art raid on philanthropist's home once targeted by the IRA and \n",
      "Dublin gangster Martin Cahill.\n",
      "\n",
      "\n",
      "\n"
     ]
    }
   ],
   "source": [
    "x = os.listdir(\"data/easy_ham\")\n",
    "\n",
    "with open(os.path.join(\"data/easy_ham\",x[0]), \"r\") as file_handler:\n",
    "    msg = file_handler.read()\n",
    "    print(msg)"
   ]
  },
  {
   "cell_type": "code",
   "execution_count": 3,
   "metadata": {},
   "outputs": [],
   "source": [
    "file_name = []\n",
    "label = []\n",
    "\n",
    "# Retriving the data\n",
    "for root,dirs,files in os.walk(\"data/\"):\n",
    "    for f in files:\n",
    "        if \"spam\" in root:\n",
    "            label.append(1)\n",
    "        else:\n",
    "            label.append(0)\n",
    "        file_name.append(os.path.join(root,f))"
   ]
  },
  {
   "cell_type": "code",
   "execution_count": 4,
   "metadata": {},
   "outputs": [
    {
     "data": {
      "text/html": [
       "<div>\n",
       "<style scoped>\n",
       "    .dataframe tbody tr th:only-of-type {\n",
       "        vertical-align: middle;\n",
       "    }\n",
       "\n",
       "    .dataframe tbody tr th {\n",
       "        vertical-align: top;\n",
       "    }\n",
       "\n",
       "    .dataframe thead th {\n",
       "        text-align: right;\n",
       "    }\n",
       "</style>\n",
       "<table border=\"1\" class=\"dataframe\">\n",
       "  <thead>\n",
       "    <tr style=\"text-align: right;\">\n",
       "      <th></th>\n",
       "      <th>Message</th>\n",
       "      <th>Target</th>\n",
       "    </tr>\n",
       "  </thead>\n",
       "  <tbody>\n",
       "    <tr>\n",
       "      <th>0</th>\n",
       "      <td>data/spam/00249.5f45607c1bffe89f60ba1ec9f878039a</td>\n",
       "      <td>1</td>\n",
       "    </tr>\n",
       "    <tr>\n",
       "      <th>1</th>\n",
       "      <td>data/spam/0355.94ebf637e4bd3db8a81c8ce68ecf681d</td>\n",
       "      <td>1</td>\n",
       "    </tr>\n",
       "    <tr>\n",
       "      <th>2</th>\n",
       "      <td>data/spam/0395.bb934e8b4c39d5eab38f828a26f760b4</td>\n",
       "      <td>1</td>\n",
       "    </tr>\n",
       "    <tr>\n",
       "      <th>3</th>\n",
       "      <td>data/spam/0485.9021367278833179285091e5201f5854</td>\n",
       "      <td>1</td>\n",
       "    </tr>\n",
       "    <tr>\n",
       "      <th>4</th>\n",
       "      <td>data/spam/00373.ebe8670ac56b04125c25100a36ab0510</td>\n",
       "      <td>1</td>\n",
       "    </tr>\n",
       "    <tr>\n",
       "      <th>...</th>\n",
       "      <td>...</td>\n",
       "      <td>...</td>\n",
       "    </tr>\n",
       "    <tr>\n",
       "      <th>9348</th>\n",
       "      <td>data/easy_ham_2/00609.dd49926ce94a1ea328cce9b6...</td>\n",
       "      <td>0</td>\n",
       "    </tr>\n",
       "    <tr>\n",
       "      <th>9349</th>\n",
       "      <td>data/easy_ham_2/00957.e0b56b117f3ec5f85e432a9d...</td>\n",
       "      <td>0</td>\n",
       "    </tr>\n",
       "    <tr>\n",
       "      <th>9350</th>\n",
       "      <td>data/easy_ham_2/01127.841233b48eceb74a825417d8...</td>\n",
       "      <td>0</td>\n",
       "    </tr>\n",
       "    <tr>\n",
       "      <th>9351</th>\n",
       "      <td>data/easy_ham_2/01178.5c977dff972cd6eef64d4173...</td>\n",
       "      <td>0</td>\n",
       "    </tr>\n",
       "    <tr>\n",
       "      <th>9352</th>\n",
       "      <td>data/easy_ham_2/00747.352d424267d36975a7b40b85...</td>\n",
       "      <td>0</td>\n",
       "    </tr>\n",
       "  </tbody>\n",
       "</table>\n",
       "<p>9353 rows × 2 columns</p>\n",
       "</div>"
      ],
      "text/plain": [
       "                                                Message  Target\n",
       "0      data/spam/00249.5f45607c1bffe89f60ba1ec9f878039a       1\n",
       "1       data/spam/0355.94ebf637e4bd3db8a81c8ce68ecf681d       1\n",
       "2       data/spam/0395.bb934e8b4c39d5eab38f828a26f760b4       1\n",
       "3       data/spam/0485.9021367278833179285091e5201f5854       1\n",
       "4      data/spam/00373.ebe8670ac56b04125c25100a36ab0510       1\n",
       "...                                                 ...     ...\n",
       "9348  data/easy_ham_2/00609.dd49926ce94a1ea328cce9b6...       0\n",
       "9349  data/easy_ham_2/00957.e0b56b117f3ec5f85e432a9d...       0\n",
       "9350  data/easy_ham_2/01127.841233b48eceb74a825417d8...       0\n",
       "9351  data/easy_ham_2/01178.5c977dff972cd6eef64d4173...       0\n",
       "9352  data/easy_ham_2/00747.352d424267d36975a7b40b85...       0\n",
       "\n",
       "[9353 rows x 2 columns]"
      ]
     },
     "execution_count": 4,
     "metadata": {},
     "output_type": "execute_result"
    }
   ],
   "source": [
    "# Putting data into dataframe\n",
    "data = pd.DataFrame({\"Message\":file_name,\"Target\":label})\n",
    "data"
   ]
  },
  {
   "cell_type": "code",
   "execution_count": 5,
   "metadata": {},
   "outputs": [
    {
     "data": {
      "image/png": "[encoded data removed]",
      "text/plain": [
       "<Figure size 640x480 with 1 Axes>"
      ]
     },
     "metadata": {},
     "output_type": "display_data"
    }
   ],
   "source": [
    "sns.countplot(data = data, x = \"Target\")\n",
    "plt.title(\"Spam Count Plot\");"
   ]
  },
  {
   "cell_type": "code",
   "execution_count": 6,
   "metadata": {},
   "outputs": [
    {
     "name": "stdout",
     "output_type": "stream",
     "text": [
      "data/spam 0343.0630afbe4ee1ffd0db0ffb81c6de98de\n",
      "______________________\n",
      "Counter({'text/plain': 7413, 'text/html': 1193, 'multipart/alternative': 326, 'multipart/signed': 180, 'multipart/mixed': 179, 'multipart/related': 56, 'multipart/report': 5, 'text/plain charset=us-ascii': 1})\n",
      "********************************\n",
      "WARNING--Remember all the multipart (and html!!) messages!!\n"
     ]
    }
   ],
   "source": [
    "\"\"\"\n",
    "Lets count the types of messages we have first\n",
    "\"\"\"\n",
    "from collections import Counter\n",
    "types = Counter()\n",
    "msgs = []\n",
    "trigger = True\n",
    "for root,dirs,files in os.walk(\"data/\"):\n",
    "    for f in files:\n",
    "        with open(os.path.join(root,f),'r',encoding='latin-1') as file_point:\n",
    "            msg = email.message_from_file(file_point, )\n",
    "            type_ = msg.get_content_type()\n",
    "            types[type_]+=1\n",
    "            if type_ == 'multipart/mixed' and trigger:\n",
    "                print(root,f)\n",
    "                print(\"______________________\")\n",
    "                trigger = False\n",
    "                SAMPLE = msg.get_payload()\n",
    "\n",
    "print(types) \n",
    "print(\"********************************\")\n",
    "print(\"WARNING--Remember all the multipart (and html!!) messages!!\") "
   ]
  },
  {
   "cell_type": "code",
   "execution_count": 7,
   "metadata": {},
   "outputs": [
    {
     "name": "stdout",
     "output_type": "stream",
     "text": [
      "WARNING--Remember all the multipart messages!!\n",
      "You need address that for Case Study 3\n"
     ]
    }
   ],
   "source": [
    "\"\"\"\n",
    "Read all the messages in\n",
    "\"\"\"\n",
    "msgs = []\n",
    "for root,dirs,files in os.walk(\"data/\"):\n",
    "    for f in files:\n",
    "        with open(os.path.join(root,f),'r',encoding='latin-1') as file_point:\n",
    "            msg = email.message_from_file(file_point)\n",
    "            body = msg.get_payload()\n",
    "            msgs.append(body)\n",
    "\n",
    " \n",
    "print(\"WARNING--Remember all the multipart messages!!\")\n",
    "print(\"You need address that for Case Study 3\")       "
   ]
  },
  {
   "cell_type": "code",
   "execution_count": 8,
   "metadata": {},
   "outputs": [
    {
     "data": {
      "text/html": [
       "<div>\n",
       "<style scoped>\n",
       "    .dataframe tbody tr th:only-of-type {\n",
       "        vertical-align: middle;\n",
       "    }\n",
       "\n",
       "    .dataframe tbody tr th {\n",
       "        vertical-align: top;\n",
       "    }\n",
       "\n",
       "    .dataframe thead th {\n",
       "        text-align: right;\n",
       "    }\n",
       "</style>\n",
       "<table border=\"1\" class=\"dataframe\">\n",
       "  <thead>\n",
       "    <tr style=\"text-align: right;\">\n",
       "      <th></th>\n",
       "      <th>Message</th>\n",
       "      <th>Target</th>\n",
       "      <th>messages</th>\n",
       "    </tr>\n",
       "  </thead>\n",
       "  <tbody>\n",
       "    <tr>\n",
       "      <th>0</th>\n",
       "      <td>data/spam/00249.5f45607c1bffe89f60ba1ec9f878039a</td>\n",
       "      <td>1</td>\n",
       "      <td>Dear Homeowner,\\n \\nInterest Rates are at thei...</td>\n",
       "    </tr>\n",
       "    <tr>\n",
       "      <th>1</th>\n",
       "      <td>data/spam/0355.94ebf637e4bd3db8a81c8ce68ecf681d</td>\n",
       "      <td>1</td>\n",
       "      <td>[[Content-Type, Content-Transfer-Encoding], [C...</td>\n",
       "    </tr>\n",
       "    <tr>\n",
       "      <th>2</th>\n",
       "      <td>data/spam/0395.bb934e8b4c39d5eab38f828a26f760b4</td>\n",
       "      <td>1</td>\n",
       "      <td>[[Content-Type, Content-Transfer-Encoding], [C...</td>\n",
       "    </tr>\n",
       "    <tr>\n",
       "      <th>3</th>\n",
       "      <td>data/spam/0485.9021367278833179285091e5201f5854</td>\n",
       "      <td>1</td>\n",
       "      <td>&lt;html&gt;&lt;head&gt;\\n&lt;title&gt;Congratulations! You Get ...</td>\n",
       "    </tr>\n",
       "    <tr>\n",
       "      <th>4</th>\n",
       "      <td>data/spam/00373.ebe8670ac56b04125c25100a36ab0510</td>\n",
       "      <td>1</td>\n",
       "      <td>ATTENTION: This is a MUST for ALL Computer Use...</td>\n",
       "    </tr>\n",
       "    <tr>\n",
       "      <th>...</th>\n",
       "      <td>...</td>\n",
       "      <td>...</td>\n",
       "      <td>...</td>\n",
       "    </tr>\n",
       "    <tr>\n",
       "      <th>9348</th>\n",
       "      <td>data/easy_ham_2/00609.dd49926ce94a1ea328cce9b6...</td>\n",
       "      <td>0</td>\n",
       "      <td>I'm one of the 30,000 but it's not working ver...</td>\n",
       "    </tr>\n",
       "    <tr>\n",
       "      <th>9349</th>\n",
       "      <td>data/easy_ham_2/00957.e0b56b117f3ec5f85e432a9d...</td>\n",
       "      <td>0</td>\n",
       "      <td>Damien Morton quoted:\\n&gt;W3C approves HTML 4 'e...</td>\n",
       "    </tr>\n",
       "    <tr>\n",
       "      <th>9350</th>\n",
       "      <td>data/easy_ham_2/01127.841233b48eceb74a825417d8...</td>\n",
       "      <td>0</td>\n",
       "      <td>On Mon, 2002-07-22 at 06:50, che wrote:\\n\\n&gt; t...</td>\n",
       "    </tr>\n",
       "    <tr>\n",
       "      <th>9351</th>\n",
       "      <td>data/easy_ham_2/01178.5c977dff972cd6eef64d4173...</td>\n",
       "      <td>0</td>\n",
       "      <td>Once upon a time, Manfred wrote :\\n\\n&gt; I would...</td>\n",
       "    </tr>\n",
       "    <tr>\n",
       "      <th>9352</th>\n",
       "      <td>data/easy_ham_2/00747.352d424267d36975a7b40b85...</td>\n",
       "      <td>0</td>\n",
       "      <td>If you run Pick, and then use the \"New FTOC\" b...</td>\n",
       "    </tr>\n",
       "  </tbody>\n",
       "</table>\n",
       "<p>9353 rows × 3 columns</p>\n",
       "</div>"
      ],
      "text/plain": [
       "                                                Message  Target  \\\n",
       "0      data/spam/00249.5f45607c1bffe89f60ba1ec9f878039a       1   \n",
       "1       data/spam/0355.94ebf637e4bd3db8a81c8ce68ecf681d       1   \n",
       "2       data/spam/0395.bb934e8b4c39d5eab38f828a26f760b4       1   \n",
       "3       data/spam/0485.9021367278833179285091e5201f5854       1   \n",
       "4      data/spam/00373.ebe8670ac56b04125c25100a36ab0510       1   \n",
       "...                                                 ...     ...   \n",
       "9348  data/easy_ham_2/00609.dd49926ce94a1ea328cce9b6...       0   \n",
       "9349  data/easy_ham_2/00957.e0b56b117f3ec5f85e432a9d...       0   \n",
       "9350  data/easy_ham_2/01127.841233b48eceb74a825417d8...       0   \n",
       "9351  data/easy_ham_2/01178.5c977dff972cd6eef64d4173...       0   \n",
       "9352  data/easy_ham_2/00747.352d424267d36975a7b40b85...       0   \n",
       "\n",
       "                                               messages  \n",
       "0     Dear Homeowner,\\n \\nInterest Rates are at thei...  \n",
       "1     [[Content-Type, Content-Transfer-Encoding], [C...  \n",
       "2     [[Content-Type, Content-Transfer-Encoding], [C...  \n",
       "3     <html><head>\\n<title>Congratulations! You Get ...  \n",
       "4     ATTENTION: This is a MUST for ALL Computer Use...  \n",
       "...                                                 ...  \n",
       "9348  I'm one of the 30,000 but it's not working ver...  \n",
       "9349  Damien Morton quoted:\\n>W3C approves HTML 4 'e...  \n",
       "9350  On Mon, 2002-07-22 at 06:50, che wrote:\\n\\n> t...  \n",
       "9351  Once upon a time, Manfred wrote :\\n\\n> I would...  \n",
       "9352  If you run Pick, and then use the \"New FTOC\" b...  \n",
       "\n",
       "[9353 rows x 3 columns]"
      ]
     },
     "execution_count": 8,
     "metadata": {},
     "output_type": "execute_result"
    }
   ],
   "source": [
    "data['messages'] = msgs\n",
    "data"
   ]
  },
  {
   "cell_type": "code",
   "execution_count": 9,
   "metadata": {},
   "outputs": [],
   "source": [
    "#data.to_csv(\"spam_or_not.csv\")"
   ]
  },
  {
   "cell_type": "markdown",
   "metadata": {},
   "source": [
    "## Data Modeling"
   ]
  },
  {
   "cell_type": "code",
   "execution_count": 10,
   "metadata": {},
   "outputs": [],
   "source": [
    "from sklearn.feature_extraction.text import CountVectorizer,TfidfVectorizer\n",
    "\n",
    "vectorizer = TfidfVectorizer()\n",
    "out = vectorizer.fit_transform(data['messages'].astype('str'))"
   ]
  },
  {
   "cell_type": "markdown",
   "metadata": {},
   "source": [
    "###  GaussianNB\n",
    "\n",
    "We aim to create a Gaussian Naive Bayes model that not only excels in classifying messages as spam or not spam but also demonstrates its reliability and consistency through rigorous internal and external cross-validation. This ensures that our model can effectively combat the challenges posed by ever-evolving forms of spam and contribute to a cleaner and safer digital communication experience for users.\n",
    "\n",
    "In our endeavor to develop an efficient spam detection system, we harnessed the capabilities of the TF-IDF (Term Frequency-Inverse Document Frequency) vectorization technique applied to the messages column as a pivotal component of our feature engineering process. TF-IDF is a text preprocessing technique that effectively transforms textual data into a numerical format that machine learning algorithms can readily comprehend. Our goal was to employ this transformed data to train and deploy a Gaussian Naive Bayes model, a powerful tool in the realm of classification, to predict whether a given message should be classified as spam or not.\n",
    "\n",
    "The TF-IDF process involves two crucial aspects:\n",
    "1. **Term Frequency (TF)**: TF quantifies the frequency of each term (word) within a message. It assigns higher weights to terms that appear more frequently within a message, effectively capturing the significance of terms in the context of that specific message.\n",
    "\n",
    "2. **Inverse Document Frequency (IDF)**: IDF complements TF by assessing the uniqueness of terms across the entire dataset. It assigns lower weights to terms that are common across all messages and higher weights to terms that are relatively rare. This step ensures that terms with higher discriminatory power, those that are distinctive across messages, are given more weight in the classification process.\n",
    "\n",
    "By combining these two components, TF-IDF generates numerical vectors that represent the essence of each message. These vectors serve as the feature set for our Gaussian Naive Bayes model. The Gaussian Naive Bayes algorithm, being well-suited for text classification tasks, utilizes these TF-IDF vectors to make informed decisions about whether a message is spam or not. In essence, our approach not only automates the spam detection process but also leverages the rich information contained within the messages to achieve a high level of accuracy in classifying messages, thereby contributing to a more secure and efficient digital communication environment.\n",
    "\n",
    "#### Internal CV w/o oversampling"
   ]
  },
  {
   "cell_type": "code",
   "execution_count": 12,
   "metadata": {},
   "outputs": [
    {
     "name": "stdout",
     "output_type": "stream",
     "text": [
      "CPU times: user 3.64 s, sys: 10.3 s, total: 14 s\n",
      "Wall time: 21.3 s\n"
     ]
    },
    {
     "data": {
      "text/html": [
       "<style>#sk-container-id-1 {color: black;}#sk-container-id-1 pre{padding: 0;}#sk-container-id-1 div.sk-toggleable {background-color: white;}#sk-container-id-1 label.sk-toggleable__label {cursor: pointer;display: block;width: 100%;margin-bottom: 0;padding: 0.3em;box-sizing: border-box;text-align: center;}#sk-container-id-1 label.sk-toggleable__label-arrow:before {content: \"▸\";float: left;margin-right: 0.25em;color: #696969;}#sk-container-id-1 label.sk-toggleable__label-arrow:hover:before {color: black;}#sk-container-id-1 div.sk-estimator:hover label.sk-toggleable__label-arrow:before {color: black;}#sk-container-id-1 div.sk-toggleable__content {max-height: 0;max-width: 0;overflow: hidden;text-align: left;background-color: #f0f8ff;}#sk-container-id-1 div.sk-toggleable__content pre {margin: 0.2em;color: black;border-radius: 0.25em;background-color: #f0f8ff;}#sk-container-id-1 input.sk-toggleable__control:checked~div.sk-toggleable__content {max-height: 200px;max-width: 100%;overflow: auto;}#sk-container-id-1 input.sk-toggleable__control:checked~label.sk-toggleable__label-arrow:before {content: \"▾\";}#sk-container-id-1 div.sk-estimator input.sk-toggleable__control:checked~label.sk-toggleable__label {background-color: #d4ebff;}#sk-container-id-1 div.sk-label input.sk-toggleable__control:checked~label.sk-toggleable__label {background-color: #d4ebff;}#sk-container-id-1 input.sk-hidden--visually {border: 0;clip: rect(1px 1px 1px 1px);clip: rect(1px, 1px, 1px, 1px);height: 1px;margin: -1px;overflow: hidden;padding: 0;position: absolute;width: 1px;}#sk-container-id-1 div.sk-estimator {font-family: monospace;background-color: #f0f8ff;border: 1px dotted black;border-radius: 0.25em;box-sizing: border-box;margin-bottom: 0.5em;}#sk-container-id-1 div.sk-estimator:hover {background-color: #d4ebff;}#sk-container-id-1 div.sk-parallel-item::after {content: \"\";width: 100%;border-bottom: 1px solid gray;flex-grow: 1;}#sk-container-id-1 div.sk-label:hover label.sk-toggleable__label {background-color: #d4ebff;}#sk-container-id-1 div.sk-serial::before {content: \"\";position: absolute;border-left: 1px solid gray;box-sizing: border-box;top: 0;bottom: 0;left: 50%;z-index: 0;}#sk-container-id-1 div.sk-serial {display: flex;flex-direction: column;align-items: center;background-color: white;padding-right: 0.2em;padding-left: 0.2em;position: relative;}#sk-container-id-1 div.sk-item {position: relative;z-index: 1;}#sk-container-id-1 div.sk-parallel {display: flex;align-items: stretch;justify-content: center;background-color: white;position: relative;}#sk-container-id-1 div.sk-item::before, #sk-container-id-1 div.sk-parallel-item::before {content: \"\";position: absolute;border-left: 1px solid gray;box-sizing: border-box;top: 0;bottom: 0;left: 50%;z-index: -1;}#sk-container-id-1 div.sk-parallel-item {display: flex;flex-direction: column;z-index: 1;position: relative;background-color: white;}#sk-container-id-1 div.sk-parallel-item:first-child::after {align-self: flex-end;width: 50%;}#sk-container-id-1 div.sk-parallel-item:last-child::after {align-self: flex-start;width: 50%;}#sk-container-id-1 div.sk-parallel-item:only-child::after {width: 0;}#sk-container-id-1 div.sk-dashed-wrapped {border: 1px dashed gray;margin: 0 0.4em 0.5em 0.4em;box-sizing: border-box;padding-bottom: 0.4em;background-color: white;}#sk-container-id-1 div.sk-label label {font-family: monospace;font-weight: bold;display: inline-block;line-height: 1.2em;}#sk-container-id-1 div.sk-label-container {text-align: center;}#sk-container-id-1 div.sk-container {/* jupyter's `normalize.less` sets `[hidden] { display: none; }` but bootstrap.min.css set `[hidden] { display: none !important; }` so we also need the `!important` here to be able to override the default hidden behavior on the sphinx rendered scikit-learn.org. See: https://github.com/scikit-learn/scikit-learn/issues/21755 */display: inline-block !important;position: relative;}#sk-container-id-1 div.sk-text-repr-fallback {display: none;}</style><div id=\"sk-container-id-1\" class=\"sk-top-container\"><div class=\"sk-text-repr-fallback\"><pre>GaussianNB()</pre><b>In a Jupyter environment, please rerun this cell to show the HTML representation or trust the notebook. <br />On GitHub, the HTML representation is unable to render, please try loading this page with nbviewer.org.</b></div><div class=\"sk-container\" hidden><div class=\"sk-item\"><div class=\"sk-estimator sk-toggleable\"><input class=\"sk-toggleable__control sk-hidden--visually\" id=\"sk-estimator-id-1\" type=\"checkbox\" checked><label for=\"sk-estimator-id-1\" class=\"sk-toggleable__label sk-toggleable__label-arrow\">GaussianNB</label><div class=\"sk-toggleable__content\"><pre>GaussianNB()</pre></div></div></div></div></div>"
      ],
      "text/plain": [
       "GaussianNB()"
      ]
     },
     "execution_count": 12,
     "metadata": {},
     "output_type": "execute_result"
    }
   ],
   "source": [
    "%%time\n",
    "from sklearn.naive_bayes import GaussianNB\n",
    "\n",
    "ng = GaussianNB()\n",
    "ng.fit(out.toarray(),data['Target'])"
   ]
  },
  {
   "cell_type": "code",
   "execution_count": 13,
   "metadata": {},
   "outputs": [
    {
     "name": "stdout",
     "output_type": "stream",
     "text": [
      "Accuracy Scores: [0.84500267 0.95510422 0.92463923 0.92673797 0.91283422]\n",
      "Mean Accuracy: 0.9128636635160357\n",
      "CPU times: user 23.1 s, sys: 1min 48s, total: 2min 11s\n",
      "Wall time: 6min 18s\n"
     ]
    }
   ],
   "source": [
    "%%time\n",
    "from sklearn.model_selection import cross_val_score\n",
    "\n",
    "scaler = StandardScaler()\n",
    "scaled_data = scaler.fit_transform(out.toarray())\n",
    "\n",
    "accuracy_scores = cross_val_score(ng, scaled_data, data['Target'], cv=5, n_jobs=1, scoring='accuracy')\n",
    "mean_accuracy = accuracy_scores.mean()\n",
    "\n",
    "print(\"Accuracy Scores:\", accuracy_scores)\n",
    "print(\"Mean Accuracy:\", mean_accuracy)"
   ]
  },
  {
   "cell_type": "markdown",
   "metadata": {},
   "source": [
    "- **Accuracy Scores**: The model achieved accuracy scores of approximately 0.84500267 0.95510422 0.92463923 0.92673797 0.91283422 for each of the 5 folds, respectively. These accuracy scores indicate the proportion of correctly classified instances in each fold.\n",
    "\n",
    "- **Mean Accuracy**: The mean accuracy across all 5 folds is approximately 0.9128636635160357. This metric represents the average accuracy of your model when tested on different subsets of the data, demonstrating the overall performance in classifying messages as spam or not spam.\n",
    "\n",
    "These results suggest that your Gaussian Naive Bayes model is performing well with a high mean accuracy score, indicating its ability to effectively classify messages. The consistency of accuracy scores across different folds further confirms the model's robustness in handling different subsets of the data.\n",
    "\n",
    "#### External CV with Oversampling"
   ]
  },
  {
   "cell_type": "code",
   "execution_count": null,
   "metadata": {},
   "outputs": [],
   "source": [
    "# from sklearn.model_selection import train_test_split\n",
    "\n",
    "# X_train, X_test, y_train, y_test = train_test_split(scaled_data, data['Target'], test_size=0.2, random_state=42)\n",
    "\n",
    "# ng.fit(X_train, y_train)\n",
    "\n",
    "# accuracy = ng.score(X_test, y_test)\n",
    "\n",
    "# print(\"Accuracy:\", accuracy)"
   ]
  },
  {
   "cell_type": "code",
   "execution_count": 23,
   "metadata": {},
   "outputs": [],
   "source": [
    "from sklearn.model_selection import train_test_split\n",
    "from imblearn.over_sampling import RandomOverSampler\n",
    "\n",
    "ros = RandomOverSampler(random_state=42)\n",
    "\n",
    "X_resampled, y_resampled = ros.fit_resample(scaled_data, data['Target'])\n",
    "\n",
    "X_train, X_test, y_train, y_test = train_test_split(X_resampled, y_resampled, test_size=0.2, random_state=42)\n",
    "\n",
    "accuracy = ng.score(X_test, y_test)"
   ]
  },
  {
   "cell_type": "code",
   "execution_count": 24,
   "metadata": {},
   "outputs": [
    {
     "name": "stdout",
     "output_type": "stream",
     "text": [
      "Accuracy: 0.9867002156721782\n",
      "Confusion Matrix:\n",
      " [[1401   27]\n",
      " [  10 1344]]\n"
     ]
    }
   ],
   "source": [
    "from sklearn.metrics import accuracy_score, confusion_matrix\n",
    "\n",
    "y_pred = ng.predict(X_test)\n",
    "\n",
    "accuracy = accuracy_score(y_test, y_pred)\n",
    "conf_matrix = confusion_matrix(y_test, y_pred)\n",
    "\n",
    "print(\"Accuracy:\", accuracy)\n",
    "print(\"Confusion Matrix:\\n\", conf_matrix)"
   ]
  },
  {
   "cell_type": "code",
   "execution_count": 25,
   "metadata": {},
   "outputs": [
    {
     "data": {
      "image/png": "[encoded data removed]",
      "text/plain": [
       "<Figure size 800x600 with 1 Axes>"
      ]
     },
     "metadata": {},
     "output_type": "display_data"
    }
   ],
   "source": [
    "plt.figure(figsize=(8, 6))\n",
    "sns.set(font_scale=1.2)\n",
    "sns.heatmap(conf_matrix, annot=True, fmt=\"d\", cmap=\"Blues\", cbar=False)\n",
    "\n",
    "# Add labels and title\n",
    "plt.xlabel(\"Predicted Labels\")\n",
    "plt.ylabel(\"True Labels\")\n",
    "plt.title(\"Confusion Matrix\")\n",
    "\n",
    "# Display the heatmap\n",
    "plt.show()\n"
   ]
  },
  {
   "cell_type": "markdown",
   "metadata": {},
   "source": [
    "In the context of external cross-validation, our model exhibited outstanding performance, achieving an accuracy of approximately 98.67%. This accuracy score signifies the proportion of correctly classified instances among the total instances within the test set, demonstrating the model's exceptional proficiency in correctly classifying approximately 98.67% of the messages as either spam or not spam.\n",
    "\n",
    "Moreover, a detailed examination through the confusion matrix provides deeper insights into the model's performance in binary classification, distinguishing between spam and not spam. Within this evaluation, the model accurately classified 1401 messages as spam (True Positives) and 1344 messages as not spam (True Negatives). Notably, the model demonstrated a remarkable level of precision, with only 27 messages falsely categorized as spam (False Positives) and merely 10 messages incorrectly labeled as not spam (False Negatives).\n",
    "\n",
    "These metrics collectively underscore the model's exceptional performance, marked by an impressive accuracy score and an exceedingly low occurrence of false positives and false negatives. Such results reaffirm the model's effectiveness and reliability, positioning it as a robust solution for the specific context and objectives of the spam classification task."
   ]
  },
  {
   "cell_type": "code",
   "execution_count": null,
   "metadata": {},
   "outputs": [],
   "source": []
  },
  {
   "cell_type": "markdown",
   "metadata": {},
   "source": [
    "### Clustering\n",
    "#### KMeans\n",
    "\n",
    "We'll incorporating K-Means clustering as a pivotal preprocessing technique in my spam classification task to bolster the effectiveness of multiple machine learning models, including Random Forest, XGBoost, and Logistic Regression.\n",
    "\n",
    "Spam classification often deals with a vast amount of unstructured text data, making it challenging to discern patterns and accurately distinguish between legitimate and spam messages. By leveraging K-Means clustering, I'm addressing this challenge with the following objectives:\n",
    "\n",
    "1. **Feature Engineering:** K-Means clustering transforms the raw text data into structured features. It groups similar text messages into clusters based on content and linguistic patterns. This cluster information serves as a valuable additional feature, which the subsequent models can use to capture hidden relationships and characteristics within the data.\n",
    "\n",
    "2. **Dimensionality Reduction:** Clustering helps reduce the dimensionality of the feature space. By assigning messages to clusters, it simplifies the data representation. This dimensionality reduction can lead to improved model performance, especially when working with high-dimensional text data.\n",
    "\n",
    "3. **Enhanced Model Performance:** The cluster labels obtained from K-Means clustering enable models like Random Forest, XGBoost, and Logistic Regression to focus on specific subsets of data. This enhances their ability to discriminate between spam and legitimate messages within each cluster, ultimately leading to more accurate and robust spam classification.\n",
    "\n",
    "4. **Model Diversity:** By training multiple models (Random Forest, XGBoost, and Logistic Regression) on the same cluster-based features, I introduce diversity in the modeling approach. Different algorithms may excel at capturing distinct nuances of spam messages, contributing to overall classification accuracy.\n",
    "\n",
    "Incorporating K-Means clustering as a preprocessing step enriches the feature space and enhances the capabilities of Random Forest, XGBoost, and Logistic Regression in the challenging task of spam classification. It empowers these models to better understand the underlying patterns in spam messages, leading to improved detection and reduced false positives."
   ]
  },
  {
   "cell_type": "code",
   "execution_count": 11,
   "metadata": {},
   "outputs": [],
   "source": [
    "from sklearn.cluster import KMeans, DBSCAN \n",
    "from sklearn.metrics import silhouette_score"
   ]
  },
  {
   "cell_type": "code",
   "execution_count": 14,
   "metadata": {},
   "outputs": [],
   "source": [
    "scaler = StandardScaler()\n",
    "scaled_data = scaler.fit_transform(out.toarray())\n",
    "\n",
    "# Finding optimal number of clusters\n",
    "silhouette_scores = []\n",
    "for num_clusters in range(2, 21):\n",
    "    kmeans = KMeans(n_clusters=num_clusters, n_init=10, random_state=42)\n",
    "    cluster_assignments = kmeans.fit_predict(scaled_data) \n",
    "    silhouette_scores.append(silhouette_score(scaled_data, cluster_assignments))\n",
    "\n",
    "# Plot the silhouette scores\n",
    "plt.plot(range(2, 21), silhouette_scores)\n",
    "plt.xlabel('Number of Clusters')\n",
    "plt.ylabel('Silhouette Score')\n",
    "plt.title('Silhouette Score for Optimal Number of Clusters')\n",
    "plt.xticks(range(2, 22, 1))\n",
    "plt.show()\n"
   ]
  },
  {
   "cell_type": "code",
   "execution_count": null,
   "metadata": {},
   "outputs": [
    {
     "name": "stderr",
     "output_type": "stream",
     "text": [
      "/Library/Frameworks/Python.framework/Versions/3.11/lib/python3.11/site-packages/sklearn/cluster/_kmeans.py:1412: FutureWarning: The default value of `n_init` will change from 10 to 'auto' in 1.4. Set the value of `n_init` explicitly to suppress the warning\n",
      "  super()._check_params_vs_input(X, default_n_init=10)\n"
     ]
    },
    {
     "name": "stdout",
     "output_type": "stream",
     "text": [
      "Cluster Sizes:\n",
      " Cluster_Label\n",
      "0    9351\n",
      "1       2\n",
      "Name: count, dtype: int64\n",
      "Silhouette Score: 0.92234665078716\n"
     ]
    }
   ],
   "source": [
    "num_clusters = 2\n",
    "\n",
    "kmeans = KMeans(n_clusters=num_clusters, random_state=42)\n",
    "kmeans.fit(scaled_data)\n",
    "\n",
    "data['Cluster_Label'] = kmeans.labels_\n",
    "\n",
    "cluster_sizes = data['Cluster_Label'].value_counts()\n",
    "print(\"Cluster Sizes:\\n\", cluster_sizes)\n",
    "\n",
    "silhouette_avg = silhouette_score(scaled_data, kmeans.labels_)\n",
    "print(f\"Silhouette Score: {silhouette_avg}\")\n"
   ]
  },
  {
   "cell_type": "code",
   "execution_count": null,
   "metadata": {},
   "outputs": [
    {
     "data": {
      "image/png": "[encoded data removed]",
      "text/plain": [
       "<Figure size 800x600 with 1 Axes>"
      ]
     },
     "metadata": {},
     "output_type": "display_data"
    }
   ],
   "source": [
    "from sklearn.decomposition import PCA\n",
    "\n",
    "num_clusters = 2\n",
    "\n",
    "kmeans = KMeans(n_clusters=num_clusters, n_init=10, random_state=42)\n",
    "\n",
    "cluster_assignments = kmeans.fit_predict(scaled_data)\n",
    "\n",
    "pca = PCA(n_components=2)  \n",
    "reduced_features = pca.fit_transform(out.toarray())\n",
    "\n",
    "# Create a scatter plot to visualize the clusters in 2D\n",
    "plt.figure(figsize=(8, 6))\n",
    "plt.scatter(reduced_features[:, 0], reduced_features[:, 1], c=cluster_assignments, cmap='viridis')\n",
    "plt.title('K-Means Clustering (2D PCA)')\n",
    "plt.xlabel('Principal Component 1')\n",
    "plt.ylabel('Principal Component 2')\n",
    "plt.show()\n"
   ]
  },
  {
   "cell_type": "code",
   "execution_count": null,
   "metadata": {},
   "outputs": [
    {
     "name": "stderr",
     "output_type": "stream",
     "text": [
      "/Library/Frameworks/Python.framework/Versions/3.11/lib/python3.11/site-packages/sklearn/cluster/_kmeans.py:1412: FutureWarning: The default value of `n_init` will change from 10 to 'auto' in 1.4. Set the value of `n_init` explicitly to suppress the warning\n",
      "  super()._check_params_vs_input(X, default_n_init=10)\n"
     ]
    }
   ],
   "source": [
    "num_clusters = 2\n",
    "\n",
    "kmeans = KMeans(n_clusters=num_clusters, random_state=42)\n",
    "\n",
    "kmeans.fit(scaled_data)\n",
    "\n",
    "data['Cluster_Label'] = kmeans.labels_"
   ]
  },
  {
   "cell_type": "code",
   "execution_count": null,
   "metadata": {},
   "outputs": [
    {
     "name": "stdout",
     "output_type": "stream",
     "text": [
      "Random Forest Accuracy: 96.10%\n"
     ]
    }
   ],
   "source": [
    "from sklearn.ensemble import RandomForestClassifier\n",
    "from sklearn.metrics import accuracy_score\n",
    "\n",
    "X_train, X_test, y_train, y_test = train_test_split(scaled_data, data['Target'], test_size=0.2, random_state=2)\n",
    "\n",
    "classifier = RandomForestClassifier()\n",
    "classifier.fit(X_train, y_train)\n",
    "\n",
    "y_pred = classifier.predict(X_test)\n",
    "\n",
    "accuracy = accuracy_score(y_test, y_pred)\n",
    "print(f\"Random Forest Accuracy: {accuracy * 100:.2f}%\")"
   ]
  },
  {
   "cell_type": "code",
   "execution_count": null,
   "metadata": {},
   "outputs": [
    {
     "name": "stdout",
     "output_type": "stream",
     "text": [
      "Logistic Regression Accuracy: 74.61%\n"
     ]
    }
   ],
   "source": [
    "from sklearn.linear_model import LogisticRegression\n",
    "\n",
    "classifier = LogisticRegression()\n",
    "classifier.fit(X_train, y_train)\n",
    "\n",
    "y_pred = classifier.predict(X_test)\n",
    "\n",
    "accuracy = accuracy_score(y_test, y_pred)\n",
    "print(f\"Logistic Regression Accuracy: {accuracy * 100:.2f}%\")\n"
   ]
  },
  {
   "cell_type": "code",
   "execution_count": null,
   "metadata": {},
   "outputs": [
    {
     "name": "stdout",
     "output_type": "stream",
     "text": [
      "XG Boost Accuracy: 74.61%\n"
     ]
    }
   ],
   "source": [
    "import xgboost as xgb\n",
    "\n",
    "classifier = xgb.XGBClassifier()\n",
    "classifier.fit(X_train, y_train)\n",
    "\n",
    "y_pred = classifier.predict(X_test)\n",
    "\n",
    "accuracy = accuracy_score(y_test, y_pred)\n",
    "print(f\"XG Boost Accuracy: {accuracy * 100:.2f}%\")"
   ]
  },
  {
   "cell_type": "code",
   "execution_count": null,
   "metadata": {},
   "outputs": [
    {
     "name": "stdout",
     "output_type": "stream",
     "text": [
      "Gaussian NB Accuracy: 74.61%\n"
     ]
    }
   ],
   "source": [
    "classifier = GaussianNB()\n",
    "classifier.fit(X_train, y_train)\n",
    "\n",
    "y_pred = classifier.predict(X_test)\n",
    "\n",
    "accuracy = accuracy_score(y_test, y_pred)\n",
    "print(f\"Gaussian NB Accuracy: {accuracy * 100:.2f}%\")"
   ]
  },
  {
   "cell_type": "markdown",
   "metadata": {},
   "source": [
    "The K-Means Clustering models achieved the following accuracy results:\n",
    "\n",
    "- Random Forest and XGBoost both demonstrated a high accuracy of 82.95%.\n",
    "- Logistic Regression and Gaussian Naive Bayes achieved an accuracy of 74.67%.\n",
    "\n",
    "These accuracy scores provide insights into the performance of each model in classifying data points based on the features generated by the K-Means clustering. The Random Forest and XGBoost models exhibited the highest accuracy, suggesting their effectiveness in leveraging the clustered features for accurate predictions, while Logistic Regression and Gaussian Naive Bayes showed slightly lower accuracy but still performed reasonably well. The choice of the best model may depend on other factors like computational resources, interpretability, and specific project requirements."
   ]
  },
  {
   "cell_type": "markdown",
   "metadata": {},
   "source": [
    "#### DBSCAN\n",
    "\n",
    "In pursuit of enhancing the accuracy and effectiveness of spam classification, I've adopted DBSCAN clustering as a key preprocessing technique alongside traditional machine learning models. Spam classification often involves dealing with intricate and unstructured text data, making it challenging to identify hidden patterns. By introducing DBSCAN clustering into the workflow, I aim to address this challenge comprehensively.\n",
    "\n",
    "The reasons for incorporating DBSCAN clustering are multifold: Firstly, it enriches the feature space by converting raw text data into structured clusters, providing a more meaningful representation of the underlying patterns. Secondly, the dimensionality reduction achieved through clustering simplifies the data, which can significantly enhance model performance.\n",
    "\n",
    "\n",
    "Furthermore, DBSCAN clustering empowers subsequent models, including Random Forest, XGBoost, and Logistic Regression, to focus on specific subsets of data—clusters with similar characteristics. This specialization improves the models' capability to distinguish spam from legitimate messages within each cluster, ultimately leading to more accurate and robust spam classification. By integrating DBSCAN clustering into the workflow, we're striving to create a more resilient and efficient spam classification system capable of handling the intricacies of real-world spam data."
   ]
  },
  {
   "cell_type": "code",
   "execution_count": null,
   "metadata": {},
   "outputs": [
    {
     "name": "stdout",
     "output_type": "stream",
     "text": [
      "Cluster Sizes:\n",
      " Cluster_Label\n",
      "-1    9341\n",
      " 0      12\n",
      "Name: count, dtype: int64\n",
      "Silhouette Score: 0.0046055480391390975\n"
     ]
    }
   ],
   "source": [
    "eps_value = 0.5 \n",
    "min_samples_value = 10  \n",
    "\n",
    "dbscan = DBSCAN(eps=eps_value, min_samples=min_samples_value)\n",
    "dbscan_labels = dbscan.fit_predict(scaled_data, data['Target'])\n",
    "\n",
    "data['Cluster_Label'] = dbscan_labels\n",
    "\n",
    "cluster_sizes = data['Cluster_Label'].value_counts()\n",
    "print(\"Cluster Sizes:\\n\", cluster_sizes)\n",
    "\n",
    "silhouette_avg = silhouette_score(out, dbscan_labels)\n",
    "print(f\"Silhouette Score: {silhouette_avg}\")"
   ]
  },
  {
   "cell_type": "code",
   "execution_count": null,
   "metadata": {},
   "outputs": [
    {
     "data": {
      "image/png": "[encoded data removed]",
      "text/plain": [
       "<Figure size 800x600 with 1 Axes>"
      ]
     },
     "metadata": {},
     "output_type": "display_data"
    }
   ],
   "source": [
    "# Fit the DBSCAN model to the sparse matrix and obtain the cluster assignments\n",
    "cluster_assignments = dbscan.fit_predict(scaled_data)\n",
    "\n",
    "# Reduce the dimensionality of the data using PCA for visualization\n",
    "pca = PCA(n_components=2)\n",
    "reduced_features = pca.fit_transform(scaled_data)\n",
    "\n",
    "# Create a scatter plot to visualize the clusters in 2D\n",
    "plt.figure(figsize=(8, 6))\n",
    "plt.scatter(reduced_features[:, 0], reduced_features[:, 1], c=cluster_assignments, cmap='viridis')\n",
    "plt.title('DBSCAN Clustering (2D PCA)')\n",
    "plt.xlabel('Principal Component 1')\n",
    "plt.ylabel('Principal Component 2')\n",
    "plt.show()"
   ]
  },
  {
   "cell_type": "code",
   "execution_count": null,
   "metadata": {},
   "outputs": [
    {
     "name": "stderr",
     "output_type": "stream",
     "text": [
      "/Library/Frameworks/Python.framework/Versions/3.11/lib/python3.11/site-packages/sklearn/linear_model/_logistic.py:460: ConvergenceWarning: lbfgs failed to converge (status=1):\n",
      "STOP: TOTAL NO. of ITERATIONS REACHED LIMIT.\n",
      "\n",
      "Increase the number of iterations (max_iter) or scale the data as shown in:\n",
      "    https://scikit-learn.org/stable/modules/preprocessing.html\n",
      "Please also refer to the documentation for alternative solver options:\n",
      "    https://scikit-learn.org/stable/modules/linear_model.html#logistic-regression\n",
      "  n_iter_i = _check_optimize_result(\n"
     ]
    },
    {
     "name": "stdout",
     "output_type": "stream",
     "text": [
      "Accuracy: 91.72%\n"
     ]
    }
   ],
   "source": [
    "X_train, X_test, y_train, y_test = train_test_split(scaled_data, data['Target'], test_size=0.2)\n",
    "\n",
    "classifier = LogisticRegression()\n",
    "classifier.fit(X_train, y_train)\n",
    "\n",
    "y_pred = classifier.predict(X_test)\n",
    "\n",
    "accuracy = accuracy_score(y_test, y_pred)\n",
    "print(f\"Logistic Regression Accuracy: {accuracy * 100:.2f}%\")"
   ]
  },
  {
   "cell_type": "code",
   "execution_count": null,
   "metadata": {},
   "outputs": [
    {
     "name": "stdout",
     "output_type": "stream",
     "text": [
      "Accuracy: 95.78%\n"
     ]
    }
   ],
   "source": [
    "classifier = RandomForestClassifier(random_state=42)\n",
    "classifier.fit(X_train, y_train)\n",
    "\n",
    "y_pred = classifier.predict(X_test)\n",
    "\n",
    "accuracy = accuracy_score(y_test, y_pred)\n",
    "print(f\"Random Forest Accuracy: {accuracy * 100:.2f}%\")"
   ]
  },
  {
   "cell_type": "code",
   "execution_count": null,
   "metadata": {},
   "outputs": [],
   "source": [
    "classifier = xgb.XGBClassifier(random_state=42)\n",
    "classifier.fit(X_train, y_train)\n",
    "\n",
    "y_pred = classifier.predict(X_test)\n",
    "\n",
    "accuracy = accuracy_score(y_test, y_pred)\n",
    "print(f\"XG Boost Accuracy: {accuracy * 100:.2f}%\")"
   ]
  },
  {
   "cell_type": "code",
   "execution_count": null,
   "metadata": {},
   "outputs": [],
   "source": [
    "classifier = GaussianNB()\n",
    "classifier.fit(X_train, y_train)\n",
    "\n",
    "y_pred = classifier.predict(X_test)\n",
    "\n",
    "accuracy = accuracy_score(y_test, y_pred)\n",
    "print(f\"Gaussian NB Accuracy: {accuracy * 100:.2f}%\")"
   ]
  },
  {
   "cell_type": "code",
   "execution_count": null,
   "metadata": {},
   "outputs": [],
   "source": []
  }
 ],
 "metadata": {
  "kernelspec": {
   "display_name": "Python 3",
   "language": "python",
   "name": "python3"
  },
  "language_info": {
   "codemirror_mode": {
    "name": "ipython",
    "version": 3
   },
   "file_extension": ".py",
   "mimetype": "text/x-python",
   "name": "python",
   "nbconvert_exporter": "python",
   "pygments_lexer": "ipython3",
   "version": "3.11.4"
  },
  "orig_nbformat": 4
 },
 "nbformat": 4,
 "nbformat_minor": 2
}
